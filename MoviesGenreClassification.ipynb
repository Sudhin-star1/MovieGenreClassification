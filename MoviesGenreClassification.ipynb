{
 "cells": [
  {
   "cell_type": "code",
   "execution_count": 1,
   "id": "b0ddea4c",
   "metadata": {},
   "outputs": [],
   "source": [
    "import pandas as pd"
   ]
  },
  {
   "cell_type": "markdown",
   "id": "9da98632",
   "metadata": {},
   "source": [
    "# Loading dataset"
   ]
  },
  {
   "cell_type": "code",
   "execution_count": 2,
   "id": "e70430fa",
   "metadata": {
    "scrolled": false
   },
   "outputs": [],
   "source": [
    "def convertToCsv(inputfilepath, outputfilename, columns, split):\n",
    "    with open(inputfilepath, 'r') as f:\n",
    "        lines = f.readlines()\n",
    "        \n",
    "    # Splitting each line based on the specified delimiter\n",
    "    data = [line.strip().split(split) for line in lines]\n",
    "    \n",
    "    # Creating a DataFrame\n",
    "    df = pd.DataFrame(data, columns=columns)\n",
    "    \n",
    "    # Save the DataFrame to a CSV file\n",
    "    df.to_csv(outputfilename, index=False)"
   ]
  },
  {
   "cell_type": "code",
   "execution_count": 3,
   "id": "5715cae1",
   "metadata": {
    "scrolled": true
   },
   "outputs": [],
   "source": [
    "convertToCsv('./GenreClassificationDataset/train_data.txt', 'train.csv', ['ID', 'Title', 'Genre', 'Description'], ':::')\n"
   ]
  },
  {
   "cell_type": "code",
   "execution_count": 4,
   "id": "456117db",
   "metadata": {},
   "outputs": [],
   "source": [
    "convertToCsv('./GenreClassificationDataset/test_data.txt', 'test.csv', ['ID', 'Title', 'Description'], ':::')\n"
   ]
  },
  {
   "cell_type": "code",
   "execution_count": 5,
   "id": "dc1f78e1",
   "metadata": {},
   "outputs": [],
   "source": [
    "train,test = pd.read_csv(\"train.csv\"), pd.read_csv(\"test.csv\")"
   ]
  },
  {
   "cell_type": "code",
   "execution_count": 6,
   "id": "c88650c6",
   "metadata": {},
   "outputs": [
    {
     "data": {
      "text/html": [
       "<div>\n",
       "<style scoped>\n",
       "    .dataframe tbody tr th:only-of-type {\n",
       "        vertical-align: middle;\n",
       "    }\n",
       "\n",
       "    .dataframe tbody tr th {\n",
       "        vertical-align: top;\n",
       "    }\n",
       "\n",
       "    .dataframe thead th {\n",
       "        text-align: right;\n",
       "    }\n",
       "</style>\n",
       "<table border=\"1\" class=\"dataframe\">\n",
       "  <thead>\n",
       "    <tr style=\"text-align: right;\">\n",
       "      <th></th>\n",
       "      <th>ID</th>\n",
       "      <th>Title</th>\n",
       "      <th>Genre</th>\n",
       "      <th>Description</th>\n",
       "    </tr>\n",
       "  </thead>\n",
       "  <tbody>\n",
       "    <tr>\n",
       "      <th>0</th>\n",
       "      <td>1</td>\n",
       "      <td>Oscar et la dame rose (2009)</td>\n",
       "      <td>drama</td>\n",
       "      <td>Listening in to a conversation between his do...</td>\n",
       "    </tr>\n",
       "    <tr>\n",
       "      <th>1</th>\n",
       "      <td>2</td>\n",
       "      <td>Cupid (1997)</td>\n",
       "      <td>thriller</td>\n",
       "      <td>A brother and sister with a past incestuous r...</td>\n",
       "    </tr>\n",
       "    <tr>\n",
       "      <th>2</th>\n",
       "      <td>3</td>\n",
       "      <td>Young, Wild and Wonderful (1980)</td>\n",
       "      <td>adult</td>\n",
       "      <td>As the bus empties the students for their fie...</td>\n",
       "    </tr>\n",
       "    <tr>\n",
       "      <th>3</th>\n",
       "      <td>4</td>\n",
       "      <td>The Secret Sin (1915)</td>\n",
       "      <td>drama</td>\n",
       "      <td>To help their unemployed father make ends mee...</td>\n",
       "    </tr>\n",
       "    <tr>\n",
       "      <th>4</th>\n",
       "      <td>5</td>\n",
       "      <td>The Unrecovered (2007)</td>\n",
       "      <td>drama</td>\n",
       "      <td>The film's title refers not only to the un-re...</td>\n",
       "    </tr>\n",
       "  </tbody>\n",
       "</table>\n",
       "</div>"
      ],
      "text/plain": [
       "   ID                               Title       Genre  \\\n",
       "0   1       Oscar et la dame rose (2009)       drama    \n",
       "1   2                       Cupid (1997)    thriller    \n",
       "2   3   Young, Wild and Wonderful (1980)       adult    \n",
       "3   4              The Secret Sin (1915)       drama    \n",
       "4   5             The Unrecovered (2007)       drama    \n",
       "\n",
       "                                         Description  \n",
       "0   Listening in to a conversation between his do...  \n",
       "1   A brother and sister with a past incestuous r...  \n",
       "2   As the bus empties the students for their fie...  \n",
       "3   To help their unemployed father make ends mee...  \n",
       "4   The film's title refers not only to the un-re...  "
      ]
     },
     "execution_count": 6,
     "metadata": {},
     "output_type": "execute_result"
    }
   ],
   "source": [
    "train.head()\n"
   ]
  },
  {
   "cell_type": "code",
   "execution_count": 7,
   "id": "181cff7f",
   "metadata": {
    "scrolled": true
   },
   "outputs": [
    {
     "data": {
      "text/html": [
       "<div>\n",
       "<style scoped>\n",
       "    .dataframe tbody tr th:only-of-type {\n",
       "        vertical-align: middle;\n",
       "    }\n",
       "\n",
       "    .dataframe tbody tr th {\n",
       "        vertical-align: top;\n",
       "    }\n",
       "\n",
       "    .dataframe thead th {\n",
       "        text-align: right;\n",
       "    }\n",
       "</style>\n",
       "<table border=\"1\" class=\"dataframe\">\n",
       "  <thead>\n",
       "    <tr style=\"text-align: right;\">\n",
       "      <th></th>\n",
       "      <th>ID</th>\n",
       "      <th>Title</th>\n",
       "      <th>Description</th>\n",
       "    </tr>\n",
       "  </thead>\n",
       "  <tbody>\n",
       "    <tr>\n",
       "      <th>0</th>\n",
       "      <td>1</td>\n",
       "      <td>Edgar's Lunch (1998)</td>\n",
       "      <td>L.R. Brane loves his life - his car, his apar...</td>\n",
       "    </tr>\n",
       "    <tr>\n",
       "      <th>1</th>\n",
       "      <td>2</td>\n",
       "      <td>La guerra de papá (1977)</td>\n",
       "      <td>Spain, March 1964: Quico is a very naughty ch...</td>\n",
       "    </tr>\n",
       "    <tr>\n",
       "      <th>2</th>\n",
       "      <td>3</td>\n",
       "      <td>Off the Beaten Track (2010)</td>\n",
       "      <td>One year in the life of Albin and his family ...</td>\n",
       "    </tr>\n",
       "    <tr>\n",
       "      <th>3</th>\n",
       "      <td>4</td>\n",
       "      <td>Meu Amigo Hindu (2015)</td>\n",
       "      <td>His father has died, he hasn't spoken with hi...</td>\n",
       "    </tr>\n",
       "    <tr>\n",
       "      <th>4</th>\n",
       "      <td>5</td>\n",
       "      <td>Er nu zhai (1955)</td>\n",
       "      <td>Before he was known internationally as a mart...</td>\n",
       "    </tr>\n",
       "  </tbody>\n",
       "</table>\n",
       "</div>"
      ],
      "text/plain": [
       "   ID                          Title  \\\n",
       "0   1          Edgar's Lunch (1998)    \n",
       "1   2      La guerra de papá (1977)    \n",
       "2   3   Off the Beaten Track (2010)    \n",
       "3   4        Meu Amigo Hindu (2015)    \n",
       "4   5             Er nu zhai (1955)    \n",
       "\n",
       "                                         Description  \n",
       "0   L.R. Brane loves his life - his car, his apar...  \n",
       "1   Spain, March 1964: Quico is a very naughty ch...  \n",
       "2   One year in the life of Albin and his family ...  \n",
       "3   His father has died, he hasn't spoken with hi...  \n",
       "4   Before he was known internationally as a mart...  "
      ]
     },
     "execution_count": 7,
     "metadata": {},
     "output_type": "execute_result"
    }
   ],
   "source": [
    "test.head()"
   ]
  },
  {
   "cell_type": "code",
   "execution_count": 8,
   "id": "cb221d03",
   "metadata": {},
   "outputs": [
    {
     "data": {
      "text/html": [
       "<div>\n",
       "<style scoped>\n",
       "    .dataframe tbody tr th:only-of-type {\n",
       "        vertical-align: middle;\n",
       "    }\n",
       "\n",
       "    .dataframe tbody tr th {\n",
       "        vertical-align: top;\n",
       "    }\n",
       "\n",
       "    .dataframe thead th {\n",
       "        text-align: right;\n",
       "    }\n",
       "</style>\n",
       "<table border=\"1\" class=\"dataframe\">\n",
       "  <thead>\n",
       "    <tr style=\"text-align: right;\">\n",
       "      <th></th>\n",
       "      <th>ID</th>\n",
       "      <th>Title</th>\n",
       "      <th>Description</th>\n",
       "    </tr>\n",
       "  </thead>\n",
       "  <tbody>\n",
       "    <tr>\n",
       "      <th>0</th>\n",
       "      <td>1</td>\n",
       "      <td>Edgar's Lunch (1998)</td>\n",
       "      <td>L.R. Brane loves his life - his car, his apar...</td>\n",
       "    </tr>\n",
       "    <tr>\n",
       "      <th>1</th>\n",
       "      <td>2</td>\n",
       "      <td>La guerra de papá (1977)</td>\n",
       "      <td>Spain, March 1964: Quico is a very naughty ch...</td>\n",
       "    </tr>\n",
       "    <tr>\n",
       "      <th>2</th>\n",
       "      <td>3</td>\n",
       "      <td>Off the Beaten Track (2010)</td>\n",
       "      <td>One year in the life of Albin and his family ...</td>\n",
       "    </tr>\n",
       "    <tr>\n",
       "      <th>3</th>\n",
       "      <td>4</td>\n",
       "      <td>Meu Amigo Hindu (2015)</td>\n",
       "      <td>His father has died, he hasn't spoken with hi...</td>\n",
       "    </tr>\n",
       "    <tr>\n",
       "      <th>4</th>\n",
       "      <td>5</td>\n",
       "      <td>Er nu zhai (1955)</td>\n",
       "      <td>Before he was known internationally as a mart...</td>\n",
       "    </tr>\n",
       "  </tbody>\n",
       "</table>\n",
       "</div>"
      ],
      "text/plain": [
       "   ID                          Title  \\\n",
       "0   1          Edgar's Lunch (1998)    \n",
       "1   2      La guerra de papá (1977)    \n",
       "2   3   Off the Beaten Track (2010)    \n",
       "3   4        Meu Amigo Hindu (2015)    \n",
       "4   5             Er nu zhai (1955)    \n",
       "\n",
       "                                         Description  \n",
       "0   L.R. Brane loves his life - his car, his apar...  \n",
       "1   Spain, March 1964: Quico is a very naughty ch...  \n",
       "2   One year in the life of Albin and his family ...  \n",
       "3   His father has died, he hasn't spoken with hi...  \n",
       "4   Before he was known internationally as a mart...  "
      ]
     },
     "execution_count": 8,
     "metadata": {},
     "output_type": "execute_result"
    }
   ],
   "source": [
    "test1 = test\n",
    "test1.head()\n"
   ]
  },
  {
   "cell_type": "code",
   "execution_count": 9,
   "id": "61acd38f",
   "metadata": {},
   "outputs": [
    {
     "data": {
      "text/html": [
       "<div>\n",
       "<style scoped>\n",
       "    .dataframe tbody tr th:only-of-type {\n",
       "        vertical-align: middle;\n",
       "    }\n",
       "\n",
       "    .dataframe tbody tr th {\n",
       "        vertical-align: top;\n",
       "    }\n",
       "\n",
       "    .dataframe thead th {\n",
       "        text-align: right;\n",
       "    }\n",
       "</style>\n",
       "<table border=\"1\" class=\"dataframe\">\n",
       "  <thead>\n",
       "    <tr style=\"text-align: right;\">\n",
       "      <th></th>\n",
       "      <th>ID</th>\n",
       "      <th>description</th>\n",
       "      <th>title</th>\n",
       "    </tr>\n",
       "  </thead>\n",
       "  <tbody>\n",
       "    <tr>\n",
       "      <th>0</th>\n",
       "      <td>1</td>\n",
       "      <td>l.r. brane loves his life - his car, his apar...</td>\n",
       "      <td>edgar's lunch (1998)</td>\n",
       "    </tr>\n",
       "    <tr>\n",
       "      <th>1</th>\n",
       "      <td>2</td>\n",
       "      <td>spain, march 1964: quico is a very naughty ch...</td>\n",
       "      <td>la guerra de papá (1977)</td>\n",
       "    </tr>\n",
       "    <tr>\n",
       "      <th>2</th>\n",
       "      <td>3</td>\n",
       "      <td>one year in the life of albin and his family ...</td>\n",
       "      <td>off the beaten track (2010)</td>\n",
       "    </tr>\n",
       "    <tr>\n",
       "      <th>3</th>\n",
       "      <td>4</td>\n",
       "      <td>his father has died, he hasn't spoken with hi...</td>\n",
       "      <td>meu amigo hindu (2015)</td>\n",
       "    </tr>\n",
       "    <tr>\n",
       "      <th>4</th>\n",
       "      <td>5</td>\n",
       "      <td>before he was known internationally as a mart...</td>\n",
       "      <td>er nu zhai (1955)</td>\n",
       "    </tr>\n",
       "  </tbody>\n",
       "</table>\n",
       "</div>"
      ],
      "text/plain": [
       "   ID                                        description  \\\n",
       "0   1   l.r. brane loves his life - his car, his apar...   \n",
       "1   2   spain, march 1964: quico is a very naughty ch...   \n",
       "2   3   one year in the life of albin and his family ...   \n",
       "3   4   his father has died, he hasn't spoken with hi...   \n",
       "4   5   before he was known internationally as a mart...   \n",
       "\n",
       "                           title  \n",
       "0          edgar's lunch (1998)   \n",
       "1      la guerra de papá (1977)   \n",
       "2   off the beaten track (2010)   \n",
       "3        meu amigo hindu (2015)   \n",
       "4             er nu zhai (1955)   "
      ]
     },
     "execution_count": 9,
     "metadata": {},
     "output_type": "execute_result"
    }
   ],
   "source": [
    "test1[\"description\"] = test1[\"Description\"].str.lower()\n",
    "test1[\"title\"] = test1[\"Title\"].str.lower()\n",
    "test1 = test1.drop([\"Title\",\"Description\"],axis=1)\n",
    "test1.head()"
   ]
  },
  {
   "cell_type": "markdown",
   "id": "748869a0",
   "metadata": {},
   "source": [
    "# EDA"
   ]
  },
  {
   "cell_type": "code",
   "execution_count": 10,
   "id": "e99cfcc3",
   "metadata": {},
   "outputs": [
    {
     "data": {
      "text/plain": [
       "ID             0\n",
       "Title          0\n",
       "Genre          0\n",
       "Description    0\n",
       "dtype: int64"
      ]
     },
     "execution_count": 10,
     "metadata": {},
     "output_type": "execute_result"
    }
   ],
   "source": [
    "train.isna().sum()"
   ]
  },
  {
   "cell_type": "code",
   "execution_count": 11,
   "id": "825810e8",
   "metadata": {},
   "outputs": [],
   "source": [
    "def descriptionLength(text):\n",
    "    text_collection = text.split(\" \")\n",
    "    print(text_collection)\n",
    "    return len(text_collection)"
   ]
  },
  {
   "cell_type": "code",
   "execution_count": 12,
   "id": "3e99f4e4",
   "metadata": {
    "scrolled": false
   },
   "outputs": [
    {
     "name": "stdout",
     "output_type": "stream",
     "text": [
      "['', 'Listening', 'in', 'to', 'a', 'conversation', 'between', 'his', 'doctor', 'and', 'parents,', '10-year-old', 'Oscar', 'learns', 'what', 'nobody', 'has', 'the', 'courage', 'to', 'tell', 'him.', 'He', 'only', 'has', 'a', 'few', 'weeks', 'to', 'live.', 'Furious,', 'he', 'refuses', 'to', 'speak', 'to', 'anyone', 'except', 'straight-talking', 'Rose,', 'the', 'lady', 'in', 'pink', 'he', 'meets', 'on', 'the', 'hospital', 'stairs.', 'As', 'Christmas', 'approaches,', 'Rose', 'uses', 'her', 'fantastical', 'experiences', 'as', 'a', 'professional', 'wrestler,', 'her', 'imagination,', 'wit', 'and', 'charm', 'to', 'allow', 'Oscar', 'to', 'live', 'life', 'and', 'love', 'to', 'the', 'full,', 'in', 'the', 'company', 'of', 'his', 'friends', 'Pop', 'Corn,', 'Einstein,', 'Bacon', 'and', 'childhood', 'sweetheart', 'Peggy', 'Blue.']\n"
     ]
    },
    {
     "data": {
      "text/plain": [
       "93"
      ]
     },
     "execution_count": 12,
     "metadata": {},
     "output_type": "execute_result"
    }
   ],
   "source": [
    "descriptionLength(train[\"Description\"][0])"
   ]
  },
  {
   "cell_type": "code",
   "execution_count": 13,
   "id": "b6c764c9",
   "metadata": {},
   "outputs": [
    {
     "data": {
      "text/plain": [
       " drama           13613\n",
       " documentary     13096\n",
       " comedy           7447\n",
       " short            5073\n",
       " horror           2204\n",
       " thriller         1591\n",
       " action           1315\n",
       " western          1032\n",
       " reality-tv        884\n",
       " family            784\n",
       " adventure         775\n",
       " music             731\n",
       " romance           672\n",
       " sci-fi            647\n",
       " adult             590\n",
       " crime             505\n",
       " animation         498\n",
       " sport             432\n",
       " talk-show         391\n",
       " fantasy           323\n",
       " mystery           319\n",
       " musical           277\n",
       " biography         265\n",
       " history           243\n",
       " game-show         194\n",
       " news              181\n",
       " war               132\n",
       "Name: Genre, dtype: int64"
      ]
     },
     "execution_count": 13,
     "metadata": {},
     "output_type": "execute_result"
    }
   ],
   "source": [
    "genre_counts = train['Genre'].value_counts()\n",
    "genre_counts"
   ]
  },
  {
   "cell_type": "code",
   "execution_count": 14,
   "id": "84ea03b8",
   "metadata": {},
   "outputs": [
    {
     "data": {
      "image/png": "[encoded data removed]",
      "text/plain": [
       "<Figure size 1800x800 with 1 Axes>"
      ]
     },
     "metadata": {},
     "output_type": "display_data"
    }
   ],
   "source": [
    "import matplotlib.pyplot as plt\n",
    "plt.figure(figsize=(18,8))\n",
    "plt.title(\"Bar Plot of Movies according to their Genre \")\n",
    "genre_counts.plot(kind='bar', x=\"Genre\", y=\"Count\")\n",
    "plt.show()\n"
   ]
  },
  {
   "cell_type": "code",
   "execution_count": 77,
   "id": "f4ad0043",
   "metadata": {},
   "outputs": [
    {
     "data": {
      "text/plain": [
       "27"
      ]
     },
     "execution_count": 77,
     "metadata": {},
     "output_type": "execute_result"
    }
   ],
   "source": [
    "num_classes = len(train[\"Genre\"].unique())\n",
    "num_classes"
   ]
  },
  {
   "cell_type": "markdown",
   "id": "c357c3ca",
   "metadata": {},
   "source": [
    "# Training the Classifier"
   ]
  },
  {
   "cell_type": "code",
   "execution_count": 15,
   "id": "0b539831",
   "metadata": {},
   "outputs": [],
   "source": [
    "# Importing necessary libraries from Natural Language ToolKit\n",
    "import nltk\n",
    "from nltk import Text\n",
    "from nltk.tokenize import word_tokenize\n",
    "from nltk.tokenize import regexp_tokenize\n",
    "from nltk.tokenize import sent_tokenize\n",
    "from nltk.corpus import stopwords\n"
   ]
  },
  {
   "cell_type": "code",
   "execution_count": 16,
   "id": "45519836",
   "metadata": {},
   "outputs": [],
   "source": [
    "from nltk.stem import PorterStemmer"
   ]
  },
  {
   "cell_type": "code",
   "execution_count": 17,
   "id": "6a3f1b46",
   "metadata": {},
   "outputs": [
    {
     "name": "stderr",
     "output_type": "stream",
     "text": [
      "[nltk_data] Downloading package stopwords to\n",
      "[nltk_data]     /Users/sudhinkarki/nltk_data...\n",
      "[nltk_data]   Package stopwords is already up-to-date!\n",
      "[nltk_data] Downloading package punkt to\n",
      "[nltk_data]     /Users/sudhinkarki/nltk_data...\n",
      "[nltk_data]   Package punkt is already up-to-date!\n"
     ]
    },
    {
     "data": {
      "text/plain": [
       "True"
      ]
     },
     "execution_count": 17,
     "metadata": {},
     "output_type": "execute_result"
    }
   ],
   "source": [
    "nltk.download('stopwords')\n",
    "nltk.download('punkt')\n"
   ]
  },
  {
   "cell_type": "code",
   "execution_count": 18,
   "id": "0118dcb8",
   "metadata": {},
   "outputs": [],
   "source": [
    "from sklearn.feature_extraction.text import CountVectorizer\n",
    "from sklearn.feature_extraction.text import TfidfVectorizer\n",
    "from sklearn.linear_model import LogisticRegression\n",
    "from sklearn.naive_bayes import MultinomialNB\n",
    "from sklearn import svm"
   ]
  },
  {
   "cell_type": "code",
   "execution_count": 19,
   "id": "8ecf2998",
   "metadata": {},
   "outputs": [],
   "source": [
    "train1 = train"
   ]
  },
  {
   "cell_type": "code",
   "execution_count": 20,
   "id": "345ad666",
   "metadata": {},
   "outputs": [],
   "source": [
    "train1[\"description\"] = train[\"Description\"].str.lower()"
   ]
  },
  {
   "cell_type": "code",
   "execution_count": 21,
   "id": "c9cbe4a1",
   "metadata": {},
   "outputs": [],
   "source": [
    "train1[\"title\"] = train[\"Title\"].str.lower()"
   ]
  },
  {
   "cell_type": "code",
   "execution_count": 22,
   "id": "52bdbeb8",
   "metadata": {},
   "outputs": [],
   "source": [
    "train1 = train1.drop([\"Title\",\"Description\"],axis=1)"
   ]
  },
  {
   "cell_type": "code",
   "execution_count": 23,
   "id": "407f4407",
   "metadata": {},
   "outputs": [],
   "source": [
    "train2 = train1"
   ]
  },
  {
   "cell_type": "code",
   "execution_count": 24,
   "id": "37feea41",
   "metadata": {},
   "outputs": [
    {
     "data": {
      "text/html": [
       "<div>\n",
       "<style scoped>\n",
       "    .dataframe tbody tr th:only-of-type {\n",
       "        vertical-align: middle;\n",
       "    }\n",
       "\n",
       "    .dataframe tbody tr th {\n",
       "        vertical-align: top;\n",
       "    }\n",
       "\n",
       "    .dataframe thead th {\n",
       "        text-align: right;\n",
       "    }\n",
       "</style>\n",
       "<table border=\"1\" class=\"dataframe\">\n",
       "  <thead>\n",
       "    <tr style=\"text-align: right;\">\n",
       "      <th></th>\n",
       "      <th>ID</th>\n",
       "      <th>Genre</th>\n",
       "      <th>description</th>\n",
       "      <th>title</th>\n",
       "    </tr>\n",
       "  </thead>\n",
       "  <tbody>\n",
       "    <tr>\n",
       "      <th>0</th>\n",
       "      <td>1</td>\n",
       "      <td>drama</td>\n",
       "      <td>listening in to a conversation between his do...</td>\n",
       "      <td>oscar et la dame rose (2009)</td>\n",
       "    </tr>\n",
       "    <tr>\n",
       "      <th>1</th>\n",
       "      <td>2</td>\n",
       "      <td>thriller</td>\n",
       "      <td>a brother and sister with a past incestuous r...</td>\n",
       "      <td>cupid (1997)</td>\n",
       "    </tr>\n",
       "    <tr>\n",
       "      <th>2</th>\n",
       "      <td>3</td>\n",
       "      <td>adult</td>\n",
       "      <td>as the bus empties the students for their fie...</td>\n",
       "      <td>young, wild and wonderful (1980)</td>\n",
       "    </tr>\n",
       "    <tr>\n",
       "      <th>3</th>\n",
       "      <td>4</td>\n",
       "      <td>drama</td>\n",
       "      <td>to help their unemployed father make ends mee...</td>\n",
       "      <td>the secret sin (1915)</td>\n",
       "    </tr>\n",
       "    <tr>\n",
       "      <th>4</th>\n",
       "      <td>5</td>\n",
       "      <td>drama</td>\n",
       "      <td>the film's title refers not only to the un-re...</td>\n",
       "      <td>the unrecovered (2007)</td>\n",
       "    </tr>\n",
       "  </tbody>\n",
       "</table>\n",
       "</div>"
      ],
      "text/plain": [
       "   ID       Genre                                        description  \\\n",
       "0   1      drama    listening in to a conversation between his do...   \n",
       "1   2   thriller    a brother and sister with a past incestuous r...   \n",
       "2   3      adult    as the bus empties the students for their fie...   \n",
       "3   4      drama    to help their unemployed father make ends mee...   \n",
       "4   5      drama    the film's title refers not only to the un-re...   \n",
       "\n",
       "                                title  \n",
       "0       oscar et la dame rose (2009)   \n",
       "1                       cupid (1997)   \n",
       "2   young, wild and wonderful (1980)   \n",
       "3              the secret sin (1915)   \n",
       "4             the unrecovered (2007)   "
      ]
     },
     "execution_count": 24,
     "metadata": {},
     "output_type": "execute_result"
    }
   ],
   "source": [
    "train2.head()"
   ]
  },
  {
   "cell_type": "code",
   "execution_count": 25,
   "id": "1c063d96",
   "metadata": {},
   "outputs": [],
   "source": [
    "train2[\"description\"] = train2[\"description\"].apply(word_tokenize)\n",
    "train2[\"title\"] = train2[\"title\"].apply(word_tokenize)"
   ]
  },
  {
   "cell_type": "code",
   "execution_count": 26,
   "id": "50e8e957",
   "metadata": {},
   "outputs": [
    {
     "data": {
      "text/html": [
       "<div>\n",
       "<style scoped>\n",
       "    .dataframe tbody tr th:only-of-type {\n",
       "        vertical-align: middle;\n",
       "    }\n",
       "\n",
       "    .dataframe tbody tr th {\n",
       "        vertical-align: top;\n",
       "    }\n",
       "\n",
       "    .dataframe thead th {\n",
       "        text-align: right;\n",
       "    }\n",
       "</style>\n",
       "<table border=\"1\" class=\"dataframe\">\n",
       "  <thead>\n",
       "    <tr style=\"text-align: right;\">\n",
       "      <th></th>\n",
       "      <th>ID</th>\n",
       "      <th>Genre</th>\n",
       "      <th>description</th>\n",
       "      <th>title</th>\n",
       "    </tr>\n",
       "  </thead>\n",
       "  <tbody>\n",
       "    <tr>\n",
       "      <th>0</th>\n",
       "      <td>1</td>\n",
       "      <td>drama</td>\n",
       "      <td>[listening, in, to, a, conversation, between, ...</td>\n",
       "      <td>[oscar, et, la, dame, rose, (, 2009, )]</td>\n",
       "    </tr>\n",
       "    <tr>\n",
       "      <th>1</th>\n",
       "      <td>2</td>\n",
       "      <td>thriller</td>\n",
       "      <td>[a, brother, and, sister, with, a, past, inces...</td>\n",
       "      <td>[cupid, (, 1997, )]</td>\n",
       "    </tr>\n",
       "    <tr>\n",
       "      <th>2</th>\n",
       "      <td>3</td>\n",
       "      <td>adult</td>\n",
       "      <td>[as, the, bus, empties, the, students, for, th...</td>\n",
       "      <td>[young, ,, wild, and, wonderful, (, 1980, )]</td>\n",
       "    </tr>\n",
       "    <tr>\n",
       "      <th>3</th>\n",
       "      <td>4</td>\n",
       "      <td>drama</td>\n",
       "      <td>[to, help, their, unemployed, father, make, en...</td>\n",
       "      <td>[the, secret, sin, (, 1915, )]</td>\n",
       "    </tr>\n",
       "    <tr>\n",
       "      <th>4</th>\n",
       "      <td>5</td>\n",
       "      <td>drama</td>\n",
       "      <td>[the, film, 's, title, refers, not, only, to, ...</td>\n",
       "      <td>[the, unrecovered, (, 2007, )]</td>\n",
       "    </tr>\n",
       "  </tbody>\n",
       "</table>\n",
       "</div>"
      ],
      "text/plain": [
       "   ID       Genre                                        description  \\\n",
       "0   1      drama   [listening, in, to, a, conversation, between, ...   \n",
       "1   2   thriller   [a, brother, and, sister, with, a, past, inces...   \n",
       "2   3      adult   [as, the, bus, empties, the, students, for, th...   \n",
       "3   4      drama   [to, help, their, unemployed, father, make, en...   \n",
       "4   5      drama   [the, film, 's, title, refers, not, only, to, ...   \n",
       "\n",
       "                                          title  \n",
       "0       [oscar, et, la, dame, rose, (, 2009, )]  \n",
       "1                           [cupid, (, 1997, )]  \n",
       "2  [young, ,, wild, and, wonderful, (, 1980, )]  \n",
       "3                [the, secret, sin, (, 1915, )]  \n",
       "4                [the, unrecovered, (, 2007, )]  "
      ]
     },
     "execution_count": 26,
     "metadata": {},
     "output_type": "execute_result"
    }
   ],
   "source": [
    "train2.head()"
   ]
  },
  {
   "cell_type": "code",
   "execution_count": 27,
   "id": "b6da9347",
   "metadata": {},
   "outputs": [
    {
     "data": {
      "text/html": [
       "<div>\n",
       "<style scoped>\n",
       "    .dataframe tbody tr th:only-of-type {\n",
       "        vertical-align: middle;\n",
       "    }\n",
       "\n",
       "    .dataframe tbody tr th {\n",
       "        vertical-align: top;\n",
       "    }\n",
       "\n",
       "    .dataframe thead th {\n",
       "        text-align: right;\n",
       "    }\n",
       "</style>\n",
       "<table border=\"1\" class=\"dataframe\">\n",
       "  <thead>\n",
       "    <tr style=\"text-align: right;\">\n",
       "      <th></th>\n",
       "      <th>ID</th>\n",
       "      <th>Genre</th>\n",
       "      <th>description</th>\n",
       "      <th>title</th>\n",
       "    </tr>\n",
       "  </thead>\n",
       "  <tbody>\n",
       "    <tr>\n",
       "      <th>0</th>\n",
       "      <td>1</td>\n",
       "      <td>drama</td>\n",
       "      <td>[listening, in, to, a, conversation, between, ...</td>\n",
       "      <td>[oscar, et, la, dame, rose, (, 2009, )]</td>\n",
       "    </tr>\n",
       "    <tr>\n",
       "      <th>1</th>\n",
       "      <td>2</td>\n",
       "      <td>thriller</td>\n",
       "      <td>[a, brother, and, sister, with, a, past, inces...</td>\n",
       "      <td>[cupid, (, 1997, )]</td>\n",
       "    </tr>\n",
       "    <tr>\n",
       "      <th>2</th>\n",
       "      <td>3</td>\n",
       "      <td>adult</td>\n",
       "      <td>[as, the, bus, empties, the, students, for, th...</td>\n",
       "      <td>[young, ,, wild, and, wonderful, (, 1980, )]</td>\n",
       "    </tr>\n",
       "    <tr>\n",
       "      <th>3</th>\n",
       "      <td>4</td>\n",
       "      <td>drama</td>\n",
       "      <td>[to, help, their, unemployed, father, make, en...</td>\n",
       "      <td>[the, secret, sin, (, 1915, )]</td>\n",
       "    </tr>\n",
       "    <tr>\n",
       "      <th>4</th>\n",
       "      <td>5</td>\n",
       "      <td>drama</td>\n",
       "      <td>[the, film, 's, title, refers, not, only, to, ...</td>\n",
       "      <td>[the, unrecovered, (, 2007, )]</td>\n",
       "    </tr>\n",
       "  </tbody>\n",
       "</table>\n",
       "</div>"
      ],
      "text/plain": [
       "   ID       Genre                                        description  \\\n",
       "0   1      drama   [listening, in, to, a, conversation, between, ...   \n",
       "1   2   thriller   [a, brother, and, sister, with, a, past, inces...   \n",
       "2   3      adult   [as, the, bus, empties, the, students, for, th...   \n",
       "3   4      drama   [to, help, their, unemployed, father, make, en...   \n",
       "4   5      drama   [the, film, 's, title, refers, not, only, to, ...   \n",
       "\n",
       "                                          title  \n",
       "0       [oscar, et, la, dame, rose, (, 2009, )]  \n",
       "1                           [cupid, (, 1997, )]  \n",
       "2  [young, ,, wild, and, wonderful, (, 1980, )]  \n",
       "3                [the, secret, sin, (, 1915, )]  \n",
       "4                [the, unrecovered, (, 2007, )]  "
      ]
     },
     "execution_count": 27,
     "metadata": {},
     "output_type": "execute_result"
    }
   ],
   "source": [
    "#Removing stopwords\n",
    "train3 = train2\n",
    "train3.head()\n"
   ]
  },
  {
   "cell_type": "code",
   "execution_count": 28,
   "id": "e14e12db",
   "metadata": {},
   "outputs": [],
   "source": [
    "stop_words = set(stopwords.words('english'))\n",
    "train3[\"title\"] = train3[\"title\"].apply(lambda tokens: [word for word in tokens if word not in stop_words])\n",
    "train3[\"description\"] = train3[\"description\"].apply(lambda tokens: [word for word in tokens if word not in stop_words])"
   ]
  },
  {
   "cell_type": "code",
   "execution_count": 29,
   "id": "861d7343",
   "metadata": {},
   "outputs": [],
   "source": [
    "train3[\"title\"] = train3[\"title\"].apply(lambda tokens: [word for word in tokens if word.isalnum()])\n",
    "train3[\"description\"] = train3[\"description\"].apply(lambda tokens: [word for word in tokens if word.isalnum()])"
   ]
  },
  {
   "cell_type": "code",
   "execution_count": 30,
   "id": "2e85b3f7",
   "metadata": {},
   "outputs": [
    {
     "data": {
      "text/html": [
       "<div>\n",
       "<style scoped>\n",
       "    .dataframe tbody tr th:only-of-type {\n",
       "        vertical-align: middle;\n",
       "    }\n",
       "\n",
       "    .dataframe tbody tr th {\n",
       "        vertical-align: top;\n",
       "    }\n",
       "\n",
       "    .dataframe thead th {\n",
       "        text-align: right;\n",
       "    }\n",
       "</style>\n",
       "<table border=\"1\" class=\"dataframe\">\n",
       "  <thead>\n",
       "    <tr style=\"text-align: right;\">\n",
       "      <th></th>\n",
       "      <th>ID</th>\n",
       "      <th>Genre</th>\n",
       "      <th>description</th>\n",
       "      <th>title</th>\n",
       "    </tr>\n",
       "  </thead>\n",
       "  <tbody>\n",
       "    <tr>\n",
       "      <th>0</th>\n",
       "      <td>1</td>\n",
       "      <td>drama</td>\n",
       "      <td>[listening, conversation, doctor, parents, osc...</td>\n",
       "      <td>[oscar, et, la, dame, rose, 2009]</td>\n",
       "    </tr>\n",
       "    <tr>\n",
       "      <th>1</th>\n",
       "      <td>2</td>\n",
       "      <td>thriller</td>\n",
       "      <td>[brother, sister, past, incestuous, relationsh...</td>\n",
       "      <td>[cupid, 1997]</td>\n",
       "    </tr>\n",
       "    <tr>\n",
       "      <th>2</th>\n",
       "      <td>3</td>\n",
       "      <td>adult</td>\n",
       "      <td>[bus, empties, students, field, trip, museum, ...</td>\n",
       "      <td>[young, wild, wonderful, 1980]</td>\n",
       "    </tr>\n",
       "    <tr>\n",
       "      <th>3</th>\n",
       "      <td>4</td>\n",
       "      <td>drama</td>\n",
       "      <td>[help, unemployed, father, make, ends, meet, e...</td>\n",
       "      <td>[secret, sin, 1915]</td>\n",
       "    </tr>\n",
       "    <tr>\n",
       "      <th>4</th>\n",
       "      <td>5</td>\n",
       "      <td>drama</td>\n",
       "      <td>[film, title, refers, bodies, ground, zero, al...</td>\n",
       "      <td>[unrecovered, 2007]</td>\n",
       "    </tr>\n",
       "  </tbody>\n",
       "</table>\n",
       "</div>"
      ],
      "text/plain": [
       "   ID       Genre                                        description  \\\n",
       "0   1      drama   [listening, conversation, doctor, parents, osc...   \n",
       "1   2   thriller   [brother, sister, past, incestuous, relationsh...   \n",
       "2   3      adult   [bus, empties, students, field, trip, museum, ...   \n",
       "3   4      drama   [help, unemployed, father, make, ends, meet, e...   \n",
       "4   5      drama   [film, title, refers, bodies, ground, zero, al...   \n",
       "\n",
       "                               title  \n",
       "0  [oscar, et, la, dame, rose, 2009]  \n",
       "1                      [cupid, 1997]  \n",
       "2     [young, wild, wonderful, 1980]  \n",
       "3                [secret, sin, 1915]  \n",
       "4                [unrecovered, 2007]  "
      ]
     },
     "execution_count": 30,
     "metadata": {},
     "output_type": "execute_result"
    }
   ],
   "source": [
    "train4 = train3\n",
    "train4.head()"
   ]
  },
  {
   "cell_type": "code",
   "execution_count": 31,
   "id": "60688b2f",
   "metadata": {},
   "outputs": [],
   "source": [
    "#Reducing to the base form\n",
    "porter = PorterStemmer()\n",
    "train4[\"title\"] = train4[\"title\"].apply(lambda tokens: [porter.stem(word) for word in tokens])\n",
    "train4[\"description\"] = train4[\"description\"].apply(lambda tokens: [porter.stem(word) for word in tokens])"
   ]
  },
  {
   "cell_type": "code",
   "execution_count": 32,
   "id": "bd98b790",
   "metadata": {},
   "outputs": [
    {
     "data": {
      "text/html": [
       "<div>\n",
       "<style scoped>\n",
       "    .dataframe tbody tr th:only-of-type {\n",
       "        vertical-align: middle;\n",
       "    }\n",
       "\n",
       "    .dataframe tbody tr th {\n",
       "        vertical-align: top;\n",
       "    }\n",
       "\n",
       "    .dataframe thead th {\n",
       "        text-align: right;\n",
       "    }\n",
       "</style>\n",
       "<table border=\"1\" class=\"dataframe\">\n",
       "  <thead>\n",
       "    <tr style=\"text-align: right;\">\n",
       "      <th></th>\n",
       "      <th>ID</th>\n",
       "      <th>Genre</th>\n",
       "      <th>description</th>\n",
       "      <th>title</th>\n",
       "    </tr>\n",
       "  </thead>\n",
       "  <tbody>\n",
       "    <tr>\n",
       "      <th>0</th>\n",
       "      <td>1</td>\n",
       "      <td>drama</td>\n",
       "      <td>[listen, convers, doctor, parent, oscar, learn...</td>\n",
       "      <td>[oscar, et, la, dame, rose, 2009]</td>\n",
       "    </tr>\n",
       "    <tr>\n",
       "      <th>1</th>\n",
       "      <td>2</td>\n",
       "      <td>thriller</td>\n",
       "      <td>[brother, sister, past, incestu, relationship,...</td>\n",
       "      <td>[cupid, 1997]</td>\n",
       "    </tr>\n",
       "    <tr>\n",
       "      <th>2</th>\n",
       "      <td>3</td>\n",
       "      <td>adult</td>\n",
       "      <td>[bu, empti, student, field, trip, museum, natu...</td>\n",
       "      <td>[young, wild, wonder, 1980]</td>\n",
       "    </tr>\n",
       "    <tr>\n",
       "      <th>3</th>\n",
       "      <td>4</td>\n",
       "      <td>drama</td>\n",
       "      <td>[help, unemploy, father, make, end, meet, edit...</td>\n",
       "      <td>[secret, sin, 1915]</td>\n",
       "    </tr>\n",
       "    <tr>\n",
       "      <th>4</th>\n",
       "      <td>5</td>\n",
       "      <td>drama</td>\n",
       "      <td>[film, titl, refer, bodi, ground, zero, also, ...</td>\n",
       "      <td>[unrecov, 2007]</td>\n",
       "    </tr>\n",
       "  </tbody>\n",
       "</table>\n",
       "</div>"
      ],
      "text/plain": [
       "   ID       Genre                                        description  \\\n",
       "0   1      drama   [listen, convers, doctor, parent, oscar, learn...   \n",
       "1   2   thriller   [brother, sister, past, incestu, relationship,...   \n",
       "2   3      adult   [bu, empti, student, field, trip, museum, natu...   \n",
       "3   4      drama   [help, unemploy, father, make, end, meet, edit...   \n",
       "4   5      drama   [film, titl, refer, bodi, ground, zero, also, ...   \n",
       "\n",
       "                               title  \n",
       "0  [oscar, et, la, dame, rose, 2009]  \n",
       "1                      [cupid, 1997]  \n",
       "2        [young, wild, wonder, 1980]  \n",
       "3                [secret, sin, 1915]  \n",
       "4                    [unrecov, 2007]  "
      ]
     },
     "execution_count": 32,
     "metadata": {},
     "output_type": "execute_result"
    }
   ],
   "source": [
    "train5 = train4\n",
    "train5.head()"
   ]
  },
  {
   "cell_type": "code",
   "execution_count": 33,
   "id": "db67df4e",
   "metadata": {},
   "outputs": [],
   "source": [
    "train5[\"title\"] = train5[\"title\"].apply(lambda tokens: ' '.join(tokens))\n",
    "train5[\"description\"] = train5[\"description\"].apply(lambda tokens: ' '.join(tokens))"
   ]
  },
  {
   "cell_type": "code",
   "execution_count": 34,
   "id": "918a27c1",
   "metadata": {},
   "outputs": [
    {
     "data": {
      "text/html": [
       "<div>\n",
       "<style scoped>\n",
       "    .dataframe tbody tr th:only-of-type {\n",
       "        vertical-align: middle;\n",
       "    }\n",
       "\n",
       "    .dataframe tbody tr th {\n",
       "        vertical-align: top;\n",
       "    }\n",
       "\n",
       "    .dataframe thead th {\n",
       "        text-align: right;\n",
       "    }\n",
       "</style>\n",
       "<table border=\"1\" class=\"dataframe\">\n",
       "  <thead>\n",
       "    <tr style=\"text-align: right;\">\n",
       "      <th></th>\n",
       "      <th>ID</th>\n",
       "      <th>Genre</th>\n",
       "      <th>description</th>\n",
       "      <th>title</th>\n",
       "    </tr>\n",
       "  </thead>\n",
       "  <tbody>\n",
       "    <tr>\n",
       "      <th>0</th>\n",
       "      <td>1</td>\n",
       "      <td>drama</td>\n",
       "      <td>listen convers doctor parent oscar learn nobod...</td>\n",
       "      <td>oscar et la dame rose 2009</td>\n",
       "    </tr>\n",
       "    <tr>\n",
       "      <th>1</th>\n",
       "      <td>2</td>\n",
       "      <td>thriller</td>\n",
       "      <td>brother sister past incestu relationship curre...</td>\n",
       "      <td>cupid 1997</td>\n",
       "    </tr>\n",
       "    <tr>\n",
       "      <th>2</th>\n",
       "      <td>3</td>\n",
       "      <td>adult</td>\n",
       "      <td>bu empti student field trip museum natur histo...</td>\n",
       "      <td>young wild wonder 1980</td>\n",
       "    </tr>\n",
       "    <tr>\n",
       "      <th>3</th>\n",
       "      <td>4</td>\n",
       "      <td>drama</td>\n",
       "      <td>help unemploy father make end meet edith twin ...</td>\n",
       "      <td>secret sin 1915</td>\n",
       "    </tr>\n",
       "    <tr>\n",
       "      <th>4</th>\n",
       "      <td>5</td>\n",
       "      <td>drama</td>\n",
       "      <td>film titl refer bodi ground zero also state na...</td>\n",
       "      <td>unrecov 2007</td>\n",
       "    </tr>\n",
       "  </tbody>\n",
       "</table>\n",
       "</div>"
      ],
      "text/plain": [
       "   ID       Genre                                        description  \\\n",
       "0   1      drama   listen convers doctor parent oscar learn nobod...   \n",
       "1   2   thriller   brother sister past incestu relationship curre...   \n",
       "2   3      adult   bu empti student field trip museum natur histo...   \n",
       "3   4      drama   help unemploy father make end meet edith twin ...   \n",
       "4   5      drama   film titl refer bodi ground zero also state na...   \n",
       "\n",
       "                        title  \n",
       "0  oscar et la dame rose 2009  \n",
       "1                  cupid 1997  \n",
       "2      young wild wonder 1980  \n",
       "3             secret sin 1915  \n",
       "4                unrecov 2007  "
      ]
     },
     "execution_count": 34,
     "metadata": {},
     "output_type": "execute_result"
    }
   ],
   "source": [
    "train5.head()"
   ]
  },
  {
   "cell_type": "code",
   "execution_count": 35,
   "id": "fb1c1a17",
   "metadata": {},
   "outputs": [
    {
     "name": "stdout",
     "output_type": "stream",
     "text": [
      "ID                                                             1\n",
      "Genre                                                     drama \n",
      "description    listen convers doctor parent oscar learn nobod...\n",
      "title                                 oscar et la dame rose 2009\n",
      "Name: 0, dtype: object\n"
     ]
    }
   ],
   "source": [
    "print(train5.iloc[0])"
   ]
  },
  {
   "cell_type": "code",
   "execution_count": 36,
   "id": "fe81cd44",
   "metadata": {},
   "outputs": [
    {
     "data": {
      "text/html": [
       "<div>\n",
       "<style scoped>\n",
       "    .dataframe tbody tr th:only-of-type {\n",
       "        vertical-align: middle;\n",
       "    }\n",
       "\n",
       "    .dataframe tbody tr th {\n",
       "        vertical-align: top;\n",
       "    }\n",
       "\n",
       "    .dataframe thead th {\n",
       "        text-align: right;\n",
       "    }\n",
       "</style>\n",
       "<table border=\"1\" class=\"dataframe\">\n",
       "  <thead>\n",
       "    <tr style=\"text-align: right;\">\n",
       "      <th></th>\n",
       "      <th>ID</th>\n",
       "      <th>Genre</th>\n",
       "      <th>description</th>\n",
       "      <th>title</th>\n",
       "    </tr>\n",
       "  </thead>\n",
       "  <tbody>\n",
       "    <tr>\n",
       "      <th>0</th>\n",
       "      <td>1</td>\n",
       "      <td>drama</td>\n",
       "      <td>listen convers doctor parent oscar learn nobod...</td>\n",
       "      <td>oscar et la dame rose 2009</td>\n",
       "    </tr>\n",
       "    <tr>\n",
       "      <th>1</th>\n",
       "      <td>2</td>\n",
       "      <td>thriller</td>\n",
       "      <td>brother sister past incestu relationship curre...</td>\n",
       "      <td>cupid 1997</td>\n",
       "    </tr>\n",
       "    <tr>\n",
       "      <th>2</th>\n",
       "      <td>3</td>\n",
       "      <td>adult</td>\n",
       "      <td>bu empti student field trip museum natur histo...</td>\n",
       "      <td>young wild wonder 1980</td>\n",
       "    </tr>\n",
       "    <tr>\n",
       "      <th>3</th>\n",
       "      <td>4</td>\n",
       "      <td>drama</td>\n",
       "      <td>help unemploy father make end meet edith twin ...</td>\n",
       "      <td>secret sin 1915</td>\n",
       "    </tr>\n",
       "    <tr>\n",
       "      <th>4</th>\n",
       "      <td>5</td>\n",
       "      <td>drama</td>\n",
       "      <td>film titl refer bodi ground zero also state na...</td>\n",
       "      <td>unrecov 2007</td>\n",
       "    </tr>\n",
       "  </tbody>\n",
       "</table>\n",
       "</div>"
      ],
      "text/plain": [
       "   ID       Genre                                        description  \\\n",
       "0   1      drama   listen convers doctor parent oscar learn nobod...   \n",
       "1   2   thriller   brother sister past incestu relationship curre...   \n",
       "2   3      adult   bu empti student field trip museum natur histo...   \n",
       "3   4      drama   help unemploy father make end meet edith twin ...   \n",
       "4   5      drama   film titl refer bodi ground zero also state na...   \n",
       "\n",
       "                        title  \n",
       "0  oscar et la dame rose 2009  \n",
       "1                  cupid 1997  \n",
       "2      young wild wonder 1980  \n",
       "3             secret sin 1915  \n",
       "4                unrecov 2007  "
      ]
     },
     "execution_count": 36,
     "metadata": {},
     "output_type": "execute_result"
    }
   ],
   "source": [
    "train6 = train5\n",
    "train6.head()"
   ]
  },
  {
   "cell_type": "code",
   "execution_count": 48,
   "id": "cc129b64",
   "metadata": {},
   "outputs": [
    {
     "data": {
      "text/html": [
       "<div>\n",
       "<style scoped>\n",
       "    .dataframe tbody tr th:only-of-type {\n",
       "        vertical-align: middle;\n",
       "    }\n",
       "\n",
       "    .dataframe tbody tr th {\n",
       "        vertical-align: top;\n",
       "    }\n",
       "\n",
       "    .dataframe thead th {\n",
       "        text-align: right;\n",
       "    }\n",
       "</style>\n",
       "<table border=\"1\" class=\"dataframe\">\n",
       "  <thead>\n",
       "    <tr style=\"text-align: right;\">\n",
       "      <th></th>\n",
       "      <th>ID</th>\n",
       "      <th>Genre</th>\n",
       "      <th>text</th>\n",
       "    </tr>\n",
       "  </thead>\n",
       "  <tbody>\n",
       "    <tr>\n",
       "      <th>0</th>\n",
       "      <td>1</td>\n",
       "      <td>drama</td>\n",
       "      <td>listen convers doctor parent oscar learn nobod...</td>\n",
       "    </tr>\n",
       "    <tr>\n",
       "      <th>1</th>\n",
       "      <td>2</td>\n",
       "      <td>thriller</td>\n",
       "      <td>brother sister past incestu relationship curre...</td>\n",
       "    </tr>\n",
       "    <tr>\n",
       "      <th>2</th>\n",
       "      <td>3</td>\n",
       "      <td>adult</td>\n",
       "      <td>bu empti student field trip museum natur histo...</td>\n",
       "    </tr>\n",
       "    <tr>\n",
       "      <th>3</th>\n",
       "      <td>4</td>\n",
       "      <td>drama</td>\n",
       "      <td>help unemploy father make end meet edith twin ...</td>\n",
       "    </tr>\n",
       "    <tr>\n",
       "      <th>4</th>\n",
       "      <td>5</td>\n",
       "      <td>drama</td>\n",
       "      <td>film titl refer bodi ground zero also state na...</td>\n",
       "    </tr>\n",
       "  </tbody>\n",
       "</table>\n",
       "</div>"
      ],
      "text/plain": [
       "   ID       Genre                                               text\n",
       "0   1      drama   listen convers doctor parent oscar learn nobod...\n",
       "1   2   thriller   brother sister past incestu relationship curre...\n",
       "2   3      adult   bu empti student field trip museum natur histo...\n",
       "3   4      drama   help unemploy father make end meet edith twin ...\n",
       "4   5      drama   film titl refer bodi ground zero also state na..."
      ]
     },
     "execution_count": 48,
     "metadata": {},
     "output_type": "execute_result"
    }
   ],
   "source": [
    "train6[\"text\"] = train6[\"description\"] + \" \" + train6[\"title\"]\n",
    "train6 = train6.drop([\"description\", \"title\"], axis=1)\n",
    "train6.head()"
   ]
  },
  {
   "cell_type": "code",
   "execution_count": 38,
   "id": "e9686683",
   "metadata": {},
   "outputs": [],
   "source": [
    "test1[\"description\"] = test1[\"description\"].apply(word_tokenize)\n",
    "test1[\"title\"] = test1[\"title\"].apply(word_tokenize)"
   ]
  },
  {
   "cell_type": "code",
   "execution_count": 39,
   "id": "bafee3f5",
   "metadata": {},
   "outputs": [
    {
     "data": {
      "text/html": [
       "<div>\n",
       "<style scoped>\n",
       "    .dataframe tbody tr th:only-of-type {\n",
       "        vertical-align: middle;\n",
       "    }\n",
       "\n",
       "    .dataframe tbody tr th {\n",
       "        vertical-align: top;\n",
       "    }\n",
       "\n",
       "    .dataframe thead th {\n",
       "        text-align: right;\n",
       "    }\n",
       "</style>\n",
       "<table border=\"1\" class=\"dataframe\">\n",
       "  <thead>\n",
       "    <tr style=\"text-align: right;\">\n",
       "      <th></th>\n",
       "      <th>ID</th>\n",
       "      <th>description</th>\n",
       "      <th>title</th>\n",
       "    </tr>\n",
       "  </thead>\n",
       "  <tbody>\n",
       "    <tr>\n",
       "      <th>0</th>\n",
       "      <td>1</td>\n",
       "      <td>[l.r, ., brane, loves, his, life, -, his, car,...</td>\n",
       "      <td>[edgar, 's, lunch, (, 1998, )]</td>\n",
       "    </tr>\n",
       "    <tr>\n",
       "      <th>1</th>\n",
       "      <td>2</td>\n",
       "      <td>[spain, ,, march, 1964, :, quico, is, a, very,...</td>\n",
       "      <td>[la, guerra, de, papá, (, 1977, )]</td>\n",
       "    </tr>\n",
       "    <tr>\n",
       "      <th>2</th>\n",
       "      <td>3</td>\n",
       "      <td>[one, year, in, the, life, of, albin, and, his...</td>\n",
       "      <td>[off, the, beaten, track, (, 2010, )]</td>\n",
       "    </tr>\n",
       "    <tr>\n",
       "      <th>3</th>\n",
       "      <td>4</td>\n",
       "      <td>[his, father, has, died, ,, he, has, n't, spok...</td>\n",
       "      <td>[meu, amigo, hindu, (, 2015, )]</td>\n",
       "    </tr>\n",
       "    <tr>\n",
       "      <th>4</th>\n",
       "      <td>5</td>\n",
       "      <td>[before, he, was, known, internationally, as, ...</td>\n",
       "      <td>[er, nu, zhai, (, 1955, )]</td>\n",
       "    </tr>\n",
       "  </tbody>\n",
       "</table>\n",
       "</div>"
      ],
      "text/plain": [
       "   ID                                        description  \\\n",
       "0   1  [l.r, ., brane, loves, his, life, -, his, car,...   \n",
       "1   2  [spain, ,, march, 1964, :, quico, is, a, very,...   \n",
       "2   3  [one, year, in, the, life, of, albin, and, his...   \n",
       "3   4  [his, father, has, died, ,, he, has, n't, spok...   \n",
       "4   5  [before, he, was, known, internationally, as, ...   \n",
       "\n",
       "                                   title  \n",
       "0         [edgar, 's, lunch, (, 1998, )]  \n",
       "1     [la, guerra, de, papá, (, 1977, )]  \n",
       "2  [off, the, beaten, track, (, 2010, )]  \n",
       "3        [meu, amigo, hindu, (, 2015, )]  \n",
       "4             [er, nu, zhai, (, 1955, )]  "
      ]
     },
     "execution_count": 39,
     "metadata": {},
     "output_type": "execute_result"
    }
   ],
   "source": [
    "test2 = test1\n",
    "test2.head()"
   ]
  },
  {
   "cell_type": "code",
   "execution_count": 41,
   "id": "d33634a9",
   "metadata": {},
   "outputs": [],
   "source": [
    "stop_words = set(stopwords.words('english'))\n",
    "test2[\"title\"] = test2[\"title\"].apply(lambda tokens: [word for word in tokens if word not in stop_words])\n",
    "test2[\"description\"] = test2[\"description\"].apply(lambda tokens: [word for word in tokens if word not in stop_words])"
   ]
  },
  {
   "cell_type": "code",
   "execution_count": 42,
   "id": "46722afa",
   "metadata": {},
   "outputs": [],
   "source": [
    "test2[\"title\"] = test2[\"title\"].apply(lambda tokens: [word for word in tokens if word.isalnum()])\n",
    "test2[\"description\"] = test2[\"description\"].apply(lambda tokens: [word for word in tokens if word.isalnum()])\n"
   ]
  },
  {
   "cell_type": "code",
   "execution_count": 43,
   "id": "337f10d5",
   "metadata": {},
   "outputs": [
    {
     "data": {
      "text/html": [
       "<div>\n",
       "<style scoped>\n",
       "    .dataframe tbody tr th:only-of-type {\n",
       "        vertical-align: middle;\n",
       "    }\n",
       "\n",
       "    .dataframe tbody tr th {\n",
       "        vertical-align: top;\n",
       "    }\n",
       "\n",
       "    .dataframe thead th {\n",
       "        text-align: right;\n",
       "    }\n",
       "</style>\n",
       "<table border=\"1\" class=\"dataframe\">\n",
       "  <thead>\n",
       "    <tr style=\"text-align: right;\">\n",
       "      <th></th>\n",
       "      <th>ID</th>\n",
       "      <th>description</th>\n",
       "      <th>title</th>\n",
       "    </tr>\n",
       "  </thead>\n",
       "  <tbody>\n",
       "    <tr>\n",
       "      <th>0</th>\n",
       "      <td>1</td>\n",
       "      <td>[brane, loves, life, car, apartment, job, espe...</td>\n",
       "      <td>[edgar, lunch, 1998]</td>\n",
       "    </tr>\n",
       "    <tr>\n",
       "      <th>1</th>\n",
       "      <td>2</td>\n",
       "      <td>[spain, march, 1964, quico, naughty, child, th...</td>\n",
       "      <td>[la, guerra, de, papá, 1977]</td>\n",
       "    </tr>\n",
       "    <tr>\n",
       "      <th>2</th>\n",
       "      <td>3</td>\n",
       "      <td>[one, year, life, albin, family, shepherds, no...</td>\n",
       "      <td>[beaten, track, 2010]</td>\n",
       "    </tr>\n",
       "    <tr>\n",
       "      <th>3</th>\n",
       "      <td>4</td>\n",
       "      <td>[father, died, spoken, brother, 10, years, ser...</td>\n",
       "      <td>[meu, amigo, hindu, 2015]</td>\n",
       "    </tr>\n",
       "    <tr>\n",
       "      <th>4</th>\n",
       "      <td>5</td>\n",
       "      <td>[known, internationally, martial, arts, supers...</td>\n",
       "      <td>[er, nu, zhai, 1955]</td>\n",
       "    </tr>\n",
       "  </tbody>\n",
       "</table>\n",
       "</div>"
      ],
      "text/plain": [
       "   ID                                        description  \\\n",
       "0   1  [brane, loves, life, car, apartment, job, espe...   \n",
       "1   2  [spain, march, 1964, quico, naughty, child, th...   \n",
       "2   3  [one, year, life, albin, family, shepherds, no...   \n",
       "3   4  [father, died, spoken, brother, 10, years, ser...   \n",
       "4   5  [known, internationally, martial, arts, supers...   \n",
       "\n",
       "                          title  \n",
       "0          [edgar, lunch, 1998]  \n",
       "1  [la, guerra, de, papá, 1977]  \n",
       "2         [beaten, track, 2010]  \n",
       "3     [meu, amigo, hindu, 2015]  \n",
       "4          [er, nu, zhai, 1955]  "
      ]
     },
     "execution_count": 43,
     "metadata": {},
     "output_type": "execute_result"
    }
   ],
   "source": [
    "test3 = test2\n",
    "test3.head()"
   ]
  },
  {
   "cell_type": "code",
   "execution_count": 44,
   "id": "50ea5644",
   "metadata": {},
   "outputs": [],
   "source": [
    "test3[\"title\"] = test3[\"title\"].apply(lambda tokens: [porter.stem(word) for word in tokens])\n",
    "test3[\"description\"] = test3[\"description\"].apply(lambda tokens: [porter.stem(word) for word in tokens])\n"
   ]
  },
  {
   "cell_type": "code",
   "execution_count": 45,
   "id": "b22a967c",
   "metadata": {},
   "outputs": [
    {
     "data": {
      "text/html": [
       "<div>\n",
       "<style scoped>\n",
       "    .dataframe tbody tr th:only-of-type {\n",
       "        vertical-align: middle;\n",
       "    }\n",
       "\n",
       "    .dataframe tbody tr th {\n",
       "        vertical-align: top;\n",
       "    }\n",
       "\n",
       "    .dataframe thead th {\n",
       "        text-align: right;\n",
       "    }\n",
       "</style>\n",
       "<table border=\"1\" class=\"dataframe\">\n",
       "  <thead>\n",
       "    <tr style=\"text-align: right;\">\n",
       "      <th></th>\n",
       "      <th>ID</th>\n",
       "      <th>description</th>\n",
       "      <th>title</th>\n",
       "    </tr>\n",
       "  </thead>\n",
       "  <tbody>\n",
       "    <tr>\n",
       "      <th>0</th>\n",
       "      <td>1</td>\n",
       "      <td>[brane, love, life, car, apart, job, especi, g...</td>\n",
       "      <td>[edgar, lunch, 1998]</td>\n",
       "    </tr>\n",
       "    <tr>\n",
       "      <th>1</th>\n",
       "      <td>2</td>\n",
       "      <td>[spain, march, 1964, quico, naughti, child, th...</td>\n",
       "      <td>[la, guerra, de, papá, 1977]</td>\n",
       "    </tr>\n",
       "    <tr>\n",
       "      <th>2</th>\n",
       "      <td>3</td>\n",
       "      <td>[one, year, life, albin, famili, shepherd, nor...</td>\n",
       "      <td>[beaten, track, 2010]</td>\n",
       "    </tr>\n",
       "    <tr>\n",
       "      <th>3</th>\n",
       "      <td>4</td>\n",
       "      <td>[father, die, spoken, brother, 10, year, serio...</td>\n",
       "      <td>[meu, amigo, hindu, 2015]</td>\n",
       "    </tr>\n",
       "    <tr>\n",
       "      <th>4</th>\n",
       "      <td>5</td>\n",
       "      <td>[known, intern, martial, art, superstar, bruce...</td>\n",
       "      <td>[er, nu, zhai, 1955]</td>\n",
       "    </tr>\n",
       "  </tbody>\n",
       "</table>\n",
       "</div>"
      ],
      "text/plain": [
       "   ID                                        description  \\\n",
       "0   1  [brane, love, life, car, apart, job, especi, g...   \n",
       "1   2  [spain, march, 1964, quico, naughti, child, th...   \n",
       "2   3  [one, year, life, albin, famili, shepherd, nor...   \n",
       "3   4  [father, die, spoken, brother, 10, year, serio...   \n",
       "4   5  [known, intern, martial, art, superstar, bruce...   \n",
       "\n",
       "                          title  \n",
       "0          [edgar, lunch, 1998]  \n",
       "1  [la, guerra, de, papá, 1977]  \n",
       "2         [beaten, track, 2010]  \n",
       "3     [meu, amigo, hindu, 2015]  \n",
       "4          [er, nu, zhai, 1955]  "
      ]
     },
     "execution_count": 45,
     "metadata": {},
     "output_type": "execute_result"
    }
   ],
   "source": [
    "test4 = test3\n",
    "test4.head()"
   ]
  },
  {
   "cell_type": "code",
   "execution_count": 46,
   "id": "5d170a59",
   "metadata": {},
   "outputs": [
    {
     "data": {
      "text/html": [
       "<div>\n",
       "<style scoped>\n",
       "    .dataframe tbody tr th:only-of-type {\n",
       "        vertical-align: middle;\n",
       "    }\n",
       "\n",
       "    .dataframe tbody tr th {\n",
       "        vertical-align: top;\n",
       "    }\n",
       "\n",
       "    .dataframe thead th {\n",
       "        text-align: right;\n",
       "    }\n",
       "</style>\n",
       "<table border=\"1\" class=\"dataframe\">\n",
       "  <thead>\n",
       "    <tr style=\"text-align: right;\">\n",
       "      <th></th>\n",
       "      <th>ID</th>\n",
       "      <th>description</th>\n",
       "      <th>title</th>\n",
       "    </tr>\n",
       "  </thead>\n",
       "  <tbody>\n",
       "    <tr>\n",
       "      <th>0</th>\n",
       "      <td>1</td>\n",
       "      <td>brane love life car apart job especi girlfrien...</td>\n",
       "      <td>edgar lunch 1998</td>\n",
       "    </tr>\n",
       "    <tr>\n",
       "      <th>1</th>\n",
       "      <td>2</td>\n",
       "      <td>spain march 1964 quico naughti child three bel...</td>\n",
       "      <td>la guerra de papá 1977</td>\n",
       "    </tr>\n",
       "    <tr>\n",
       "      <th>2</th>\n",
       "      <td>3</td>\n",
       "      <td>one year life albin famili shepherd north tran...</td>\n",
       "      <td>beaten track 2010</td>\n",
       "    </tr>\n",
       "    <tr>\n",
       "      <th>3</th>\n",
       "      <td>4</td>\n",
       "      <td>father die spoken brother 10 year seriou cance...</td>\n",
       "      <td>meu amigo hindu 2015</td>\n",
       "    </tr>\n",
       "    <tr>\n",
       "      <th>4</th>\n",
       "      <td>5</td>\n",
       "      <td>known intern martial art superstar bruce lee a...</td>\n",
       "      <td>er nu zhai 1955</td>\n",
       "    </tr>\n",
       "  </tbody>\n",
       "</table>\n",
       "</div>"
      ],
      "text/plain": [
       "   ID                                        description  \\\n",
       "0   1  brane love life car apart job especi girlfrien...   \n",
       "1   2  spain march 1964 quico naughti child three bel...   \n",
       "2   3  one year life albin famili shepherd north tran...   \n",
       "3   4  father die spoken brother 10 year seriou cance...   \n",
       "4   5  known intern martial art superstar bruce lee a...   \n",
       "\n",
       "                    title  \n",
       "0        edgar lunch 1998  \n",
       "1  la guerra de papá 1977  \n",
       "2       beaten track 2010  \n",
       "3    meu amigo hindu 2015  \n",
       "4         er nu zhai 1955  "
      ]
     },
     "execution_count": 46,
     "metadata": {},
     "output_type": "execute_result"
    }
   ],
   "source": [
    "test4[\"title\"] = test4[\"title\"].apply(lambda tokens: ' '.join(tokens))\n",
    "test4[\"description\"] = test4[\"description\"].apply(lambda tokens: ' '.join(tokens))\n",
    "test4.head()"
   ]
  },
  {
   "cell_type": "code",
   "execution_count": 47,
   "id": "57be4a2a",
   "metadata": {},
   "outputs": [
    {
     "data": {
      "text/html": [
       "<div>\n",
       "<style scoped>\n",
       "    .dataframe tbody tr th:only-of-type {\n",
       "        vertical-align: middle;\n",
       "    }\n",
       "\n",
       "    .dataframe tbody tr th {\n",
       "        vertical-align: top;\n",
       "    }\n",
       "\n",
       "    .dataframe thead th {\n",
       "        text-align: right;\n",
       "    }\n",
       "</style>\n",
       "<table border=\"1\" class=\"dataframe\">\n",
       "  <thead>\n",
       "    <tr style=\"text-align: right;\">\n",
       "      <th></th>\n",
       "      <th>ID</th>\n",
       "      <th>text</th>\n",
       "    </tr>\n",
       "  </thead>\n",
       "  <tbody>\n",
       "    <tr>\n",
       "      <th>0</th>\n",
       "      <td>1</td>\n",
       "      <td>brane love life car apart job especi girlfrien...</td>\n",
       "    </tr>\n",
       "    <tr>\n",
       "      <th>1</th>\n",
       "      <td>2</td>\n",
       "      <td>spain march 1964 quico naughti child three bel...</td>\n",
       "    </tr>\n",
       "    <tr>\n",
       "      <th>2</th>\n",
       "      <td>3</td>\n",
       "      <td>one year life albin famili shepherd north tran...</td>\n",
       "    </tr>\n",
       "    <tr>\n",
       "      <th>3</th>\n",
       "      <td>4</td>\n",
       "      <td>father die spoken brother 10 year seriou cance...</td>\n",
       "    </tr>\n",
       "    <tr>\n",
       "      <th>4</th>\n",
       "      <td>5</td>\n",
       "      <td>known intern martial art superstar bruce lee a...</td>\n",
       "    </tr>\n",
       "  </tbody>\n",
       "</table>\n",
       "</div>"
      ],
      "text/plain": [
       "   ID                                               text\n",
       "0   1  brane love life car apart job especi girlfrien...\n",
       "1   2  spain march 1964 quico naughti child three bel...\n",
       "2   3  one year life albin famili shepherd north tran...\n",
       "3   4  father die spoken brother 10 year seriou cance...\n",
       "4   5  known intern martial art superstar bruce lee a..."
      ]
     },
     "execution_count": 47,
     "metadata": {},
     "output_type": "execute_result"
    }
   ],
   "source": [
    "test5 = test4\n",
    "test5[\"text\"] = test4[\"description\"] + \" \"+ test4[\"title\"]\n",
    "test5 = test5.drop([\"description\", \"title\"], axis=1)\n",
    "test5.head()"
   ]
  },
  {
   "cell_type": "code",
   "execution_count": 49,
   "id": "2e6895b5",
   "metadata": {},
   "outputs": [],
   "source": [
    "x_train = train6[\"text\"]\n",
    "y_train = train6[\"Genre\"]\n"
   ]
  },
  {
   "cell_type": "code",
   "execution_count": 50,
   "id": "c3886f08",
   "metadata": {},
   "outputs": [],
   "source": [
    "x_test = test5[\"text\"]"
   ]
  },
  {
   "cell_type": "markdown",
   "id": "f5b06d1e",
   "metadata": {},
   "source": [
    "## TF-IDF Vectorizer"
   ]
  },
  {
   "cell_type": "code",
   "execution_count": 51,
   "id": "5dc6774e",
   "metadata": {},
   "outputs": [],
   "source": [
    "tfidf_vectorizer = TfidfVectorizer()\n",
    "x_train_tfidf = tfidf_vectorizer.fit_transform(x_train)\n"
   ]
  },
  {
   "cell_type": "code",
   "execution_count": 52,
   "id": "ff2f8332",
   "metadata": {},
   "outputs": [],
   "source": [
    "x_test_tfidf = tfidf_vectorizer.transform(x_test)\n"
   ]
  },
  {
   "cell_type": "markdown",
   "id": "9802c3b3",
   "metadata": {},
   "source": [
    "## Multinomial Naive Bayes Classifier"
   ]
  },
  {
   "cell_type": "code",
   "execution_count": 53,
   "id": "8d831614",
   "metadata": {},
   "outputs": [
    {
     "data": {
      "text/html": [
       "<style>#sk-container-id-1 {color: black;background-color: white;}#sk-container-id-1 pre{padding: 0;}#sk-container-id-1 div.sk-toggleable {background-color: white;}#sk-container-id-1 label.sk-toggleable__label {cursor: pointer;display: block;width: 100%;margin-bottom: 0;padding: 0.3em;box-sizing: border-box;text-align: center;}#sk-container-id-1 label.sk-toggleable__label-arrow:before {content: \"▸\";float: left;margin-right: 0.25em;color: #696969;}#sk-container-id-1 label.sk-toggleable__label-arrow:hover:before {color: black;}#sk-container-id-1 div.sk-estimator:hover label.sk-toggleable__label-arrow:before {color: black;}#sk-container-id-1 div.sk-toggleable__content {max-height: 0;max-width: 0;overflow: hidden;text-align: left;background-color: #f0f8ff;}#sk-container-id-1 div.sk-toggleable__content pre {margin: 0.2em;color: black;border-radius: 0.25em;background-color: #f0f8ff;}#sk-container-id-1 input.sk-toggleable__control:checked~div.sk-toggleable__content {max-height: 200px;max-width: 100%;overflow: auto;}#sk-container-id-1 input.sk-toggleable__control:checked~label.sk-toggleable__label-arrow:before {content: \"▾\";}#sk-container-id-1 div.sk-estimator input.sk-toggleable__control:checked~label.sk-toggleable__label {background-color: #d4ebff;}#sk-container-id-1 div.sk-label input.sk-toggleable__control:checked~label.sk-toggleable__label {background-color: #d4ebff;}#sk-container-id-1 input.sk-hidden--visually {border: 0;clip: rect(1px 1px 1px 1px);clip: rect(1px, 1px, 1px, 1px);height: 1px;margin: -1px;overflow: hidden;padding: 0;position: absolute;width: 1px;}#sk-container-id-1 div.sk-estimator {font-family: monospace;background-color: #f0f8ff;border: 1px dotted black;border-radius: 0.25em;box-sizing: border-box;margin-bottom: 0.5em;}#sk-container-id-1 div.sk-estimator:hover {background-color: #d4ebff;}#sk-container-id-1 div.sk-parallel-item::after {content: \"\";width: 100%;border-bottom: 1px solid gray;flex-grow: 1;}#sk-container-id-1 div.sk-label:hover label.sk-toggleable__label {background-color: #d4ebff;}#sk-container-id-1 div.sk-serial::before {content: \"\";position: absolute;border-left: 1px solid gray;box-sizing: border-box;top: 0;bottom: 0;left: 50%;z-index: 0;}#sk-container-id-1 div.sk-serial {display: flex;flex-direction: column;align-items: center;background-color: white;padding-right: 0.2em;padding-left: 0.2em;position: relative;}#sk-container-id-1 div.sk-item {position: relative;z-index: 1;}#sk-container-id-1 div.sk-parallel {display: flex;align-items: stretch;justify-content: center;background-color: white;position: relative;}#sk-container-id-1 div.sk-item::before, #sk-container-id-1 div.sk-parallel-item::before {content: \"\";position: absolute;border-left: 1px solid gray;box-sizing: border-box;top: 0;bottom: 0;left: 50%;z-index: -1;}#sk-container-id-1 div.sk-parallel-item {display: flex;flex-direction: column;z-index: 1;position: relative;background-color: white;}#sk-container-id-1 div.sk-parallel-item:first-child::after {align-self: flex-end;width: 50%;}#sk-container-id-1 div.sk-parallel-item:last-child::after {align-self: flex-start;width: 50%;}#sk-container-id-1 div.sk-parallel-item:only-child::after {width: 0;}#sk-container-id-1 div.sk-dashed-wrapped {border: 1px dashed gray;margin: 0 0.4em 0.5em 0.4em;box-sizing: border-box;padding-bottom: 0.4em;background-color: white;}#sk-container-id-1 div.sk-label label {font-family: monospace;font-weight: bold;display: inline-block;line-height: 1.2em;}#sk-container-id-1 div.sk-label-container {text-align: center;}#sk-container-id-1 div.sk-container {/* jupyter's `normalize.less` sets `[hidden] { display: none; }` but bootstrap.min.css set `[hidden] { display: none !important; }` so we also need the `!important` here to be able to override the default hidden behavior on the sphinx rendered scikit-learn.org. See: https://github.com/scikit-learn/scikit-learn/issues/21755 */display: inline-block !important;position: relative;}#sk-container-id-1 div.sk-text-repr-fallback {display: none;}</style><div id=\"sk-container-id-1\" class=\"sk-top-container\"><div class=\"sk-text-repr-fallback\"><pre>MultinomialNB()</pre><b>In a Jupyter environment, please rerun this cell to show the HTML representation or trust the notebook. <br />On GitHub, the HTML representation is unable to render, please try loading this page with nbviewer.org.</b></div><div class=\"sk-container\" hidden><div class=\"sk-item\"><div class=\"sk-estimator sk-toggleable\"><input class=\"sk-toggleable__control sk-hidden--visually\" id=\"sk-estimator-id-1\" type=\"checkbox\" checked><label for=\"sk-estimator-id-1\" class=\"sk-toggleable__label sk-toggleable__label-arrow\">MultinomialNB</label><div class=\"sk-toggleable__content\"><pre>MultinomialNB()</pre></div></div></div></div></div>"
      ],
      "text/plain": [
       "MultinomialNB()"
      ]
     },
     "execution_count": 53,
     "metadata": {},
     "output_type": "execute_result"
    }
   ],
   "source": [
    "model = MultinomialNB()\n",
    "model.fit(x_train_tfidf, y_train)"
   ]
  },
  {
   "cell_type": "code",
   "execution_count": 54,
   "id": "d79a20a0",
   "metadata": {},
   "outputs": [],
   "source": [
    "predictions = model.predict(x_test_tfidf)\n"
   ]
  },
  {
   "cell_type": "code",
   "execution_count": 55,
   "id": "e4f32582",
   "metadata": {},
   "outputs": [
    {
     "data": {
      "text/plain": [
       "array([' drama ', ' drama ', ' documentary ', ..., ' drama ', ' drama ',\n",
       "       ' documentary '], dtype='<U13')"
      ]
     },
     "execution_count": 55,
     "metadata": {},
     "output_type": "execute_result"
    }
   ],
   "source": [
    "predictions"
   ]
  },
  {
   "cell_type": "code",
   "execution_count": 58,
   "id": "9d1124d7",
   "metadata": {},
   "outputs": [],
   "source": [
    "results = pd.DataFrame({'id': test5['ID'], 'predicted_genre': predictions})\n",
    "results.to_csv('predicted_results.csv', index=False)"
   ]
  },
  {
   "cell_type": "markdown",
   "id": "7d2119df",
   "metadata": {},
   "source": [
    "# Computing model's accuracy"
   ]
  },
  {
   "cell_type": "code",
   "execution_count": 59,
   "id": "a916db71",
   "metadata": {},
   "outputs": [],
   "source": [
    "convertToCsv('./GenreClassificationDataset/test_data_solution.txt', 'test_solution.csv', ['ID', 'Title',\"Genre\", 'Description'], ':::')"
   ]
  },
  {
   "cell_type": "code",
   "execution_count": 60,
   "id": "2fdfb8cf",
   "metadata": {},
   "outputs": [
    {
     "data": {
      "text/html": [
       "<div>\n",
       "<style scoped>\n",
       "    .dataframe tbody tr th:only-of-type {\n",
       "        vertical-align: middle;\n",
       "    }\n",
       "\n",
       "    .dataframe tbody tr th {\n",
       "        vertical-align: top;\n",
       "    }\n",
       "\n",
       "    .dataframe thead th {\n",
       "        text-align: right;\n",
       "    }\n",
       "</style>\n",
       "<table border=\"1\" class=\"dataframe\">\n",
       "  <thead>\n",
       "    <tr style=\"text-align: right;\">\n",
       "      <th></th>\n",
       "      <th>ID</th>\n",
       "      <th>Title</th>\n",
       "      <th>Genre</th>\n",
       "      <th>Description</th>\n",
       "    </tr>\n",
       "  </thead>\n",
       "  <tbody>\n",
       "    <tr>\n",
       "      <th>0</th>\n",
       "      <td>1</td>\n",
       "      <td>Edgar's Lunch (1998)</td>\n",
       "      <td>thriller</td>\n",
       "      <td>L.R. Brane loves his life - his car, his apar...</td>\n",
       "    </tr>\n",
       "    <tr>\n",
       "      <th>1</th>\n",
       "      <td>2</td>\n",
       "      <td>La guerra de papá (1977)</td>\n",
       "      <td>comedy</td>\n",
       "      <td>Spain, March 1964: Quico is a very naughty ch...</td>\n",
       "    </tr>\n",
       "    <tr>\n",
       "      <th>2</th>\n",
       "      <td>3</td>\n",
       "      <td>Off the Beaten Track (2010)</td>\n",
       "      <td>documentary</td>\n",
       "      <td>One year in the life of Albin and his family ...</td>\n",
       "    </tr>\n",
       "    <tr>\n",
       "      <th>3</th>\n",
       "      <td>4</td>\n",
       "      <td>Meu Amigo Hindu (2015)</td>\n",
       "      <td>drama</td>\n",
       "      <td>His father has died, he hasn't spoken with hi...</td>\n",
       "    </tr>\n",
       "    <tr>\n",
       "      <th>4</th>\n",
       "      <td>5</td>\n",
       "      <td>Er nu zhai (1955)</td>\n",
       "      <td>drama</td>\n",
       "      <td>Before he was known internationally as a mart...</td>\n",
       "    </tr>\n",
       "  </tbody>\n",
       "</table>\n",
       "</div>"
      ],
      "text/plain": [
       "   ID                          Title          Genre  \\\n",
       "0   1          Edgar's Lunch (1998)       thriller    \n",
       "1   2      La guerra de papá (1977)         comedy    \n",
       "2   3   Off the Beaten Track (2010)    documentary    \n",
       "3   4        Meu Amigo Hindu (2015)          drama    \n",
       "4   5             Er nu zhai (1955)          drama    \n",
       "\n",
       "                                         Description  \n",
       "0   L.R. Brane loves his life - his car, his apar...  \n",
       "1   Spain, March 1964: Quico is a very naughty ch...  \n",
       "2   One year in the life of Albin and his family ...  \n",
       "3   His father has died, he hasn't spoken with hi...  \n",
       "4   Before he was known internationally as a mart...  "
      ]
     },
     "execution_count": 60,
     "metadata": {},
     "output_type": "execute_result"
    }
   ],
   "source": [
    "from sklearn.metrics import accuracy_score\n",
    "test_data_solution = pd.read_csv(\"test_solution.csv\")\n",
    "test_data_solution.head()"
   ]
  },
  {
   "cell_type": "code",
   "execution_count": 61,
   "id": "cf2ba741",
   "metadata": {},
   "outputs": [],
   "source": [
    "y_true = test_data_solution[\"Genre\"]\n"
   ]
  },
  {
   "cell_type": "code",
   "execution_count": 84,
   "id": "dfe912d6",
   "metadata": {},
   "outputs": [
    {
     "data": {
      "text/plain": [
       "0            thriller \n",
       "1              comedy \n",
       "2         documentary \n",
       "3               drama \n",
       "4               drama \n",
       "             ...      \n",
       "54195          horror \n",
       "54196         western \n",
       "54197           adult \n",
       "54198           drama \n",
       "54199           drama \n",
       "Name: Genre, Length: 54200, dtype: object"
      ]
     },
     "execution_count": 84,
     "metadata": {},
     "output_type": "execute_result"
    }
   ],
   "source": [
    "y_true"
   ]
  },
  {
   "cell_type": "code",
   "execution_count": 62,
   "id": "a1dffb72",
   "metadata": {},
   "outputs": [
    {
     "name": "stdout",
     "output_type": "stream",
     "text": [
      "Model Accuracy: 0.4390590405904059\n"
     ]
    }
   ],
   "source": [
    "accuracy = accuracy_score(y_true, predictions)\n",
    "print(\"Model Accuracy:\", accuracy)"
   ]
  },
  {
   "cell_type": "markdown",
   "id": "31a8e797",
   "metadata": {},
   "source": [
    "### Hence the accuracy was found to be around 44%, we now try to improve the model's accuracy."
   ]
  },
  {
   "cell_type": "code",
   "execution_count": 63,
   "id": "8e6db4ce",
   "metadata": {
    "collapsed": true
   },
   "outputs": [
    {
     "name": "stderr",
     "output_type": "stream",
     "text": [
      "/Users/sudhinkarki/anaconda3/lib/python3.10/site-packages/sklearn/metrics/_classification.py:1344: UndefinedMetricWarning: Precision and F-score are ill-defined and being set to 0.0 in labels with no predicted samples. Use `zero_division` parameter to control this behavior.\n",
      "  _warn_prf(average, modifier, msg_start, len(result))\n",
      "/Users/sudhinkarki/anaconda3/lib/python3.10/site-packages/sklearn/metrics/_classification.py:1344: UndefinedMetricWarning: Precision and F-score are ill-defined and being set to 0.0 in labels with no predicted samples. Use `zero_division` parameter to control this behavior.\n",
      "  _warn_prf(average, modifier, msg_start, len(result))\n"
     ]
    },
    {
     "name": "stdout",
     "output_type": "stream",
     "text": [
      "Classification Report:\n",
      "                precision    recall  f1-score   support\n",
      "\n",
      "      action        0.00      0.00      0.00      1314\n",
      "       adult        0.00      0.00      0.00       590\n",
      "   adventure        0.00      0.00      0.00       775\n",
      "   animation        0.00      0.00      0.00       498\n",
      "   biography        0.00      0.00      0.00       264\n",
      "      comedy        0.74      0.04      0.07      7446\n",
      "       crime        0.00      0.00      0.00       505\n",
      " documentary        0.51      0.89      0.65     13096\n",
      "       drama        0.38      0.87      0.53     13612\n",
      "      family        0.00      0.00      0.00       783\n",
      "     fantasy        0.00      0.00      0.00       322\n",
      "   game-show        0.00      0.00      0.00       193\n",
      "     history        0.00      0.00      0.00       243\n",
      "      horror        0.00      0.00      0.00      2204\n",
      "       music        0.00      0.00      0.00       731\n",
      "     musical        0.00      0.00      0.00       276\n",
      "     mystery        0.00      0.00      0.00       318\n",
      "        news        0.00      0.00      0.00       181\n",
      "  reality-tv        0.00      0.00      0.00       883\n",
      "     romance        0.00      0.00      0.00       672\n",
      "      sci-fi        0.00      0.00      0.00       646\n",
      "       short        1.00      0.00      0.00      5072\n",
      "       sport        0.00      0.00      0.00       431\n",
      "   talk-show        0.00      0.00      0.00       391\n",
      "    thriller        0.00      0.00      0.00      1590\n",
      "         war        0.00      0.00      0.00       132\n",
      "     western        1.00      0.00      0.00      1032\n",
      "\n",
      "     accuracy                           0.44     54200\n",
      "    macro avg       0.13      0.07      0.05     54200\n",
      " weighted avg       0.43      0.44      0.30     54200\n",
      "\n"
     ]
    },
    {
     "name": "stderr",
     "output_type": "stream",
     "text": [
      "/Users/sudhinkarki/anaconda3/lib/python3.10/site-packages/sklearn/metrics/_classification.py:1344: UndefinedMetricWarning: Precision and F-score are ill-defined and being set to 0.0 in labels with no predicted samples. Use `zero_division` parameter to control this behavior.\n",
      "  _warn_prf(average, modifier, msg_start, len(result))\n"
     ]
    }
   ],
   "source": [
    "# But first let's go through precision, recall and F1 score.\n",
    "from sklearn.metrics import classification_report\n",
    "print(\"Classification Report:\\n\", classification_report(y_true, predictions))\n"
   ]
  },
  {
   "cell_type": "markdown",
   "id": "f607e686",
   "metadata": {},
   "source": [
    "# Using Deep Learning Algotithms"
   ]
  },
  {
   "cell_type": "code",
   "execution_count": 64,
   "id": "4a100361",
   "metadata": {},
   "outputs": [
    {
     "name": "stderr",
     "output_type": "stream",
     "text": [
      "2023-12-01 08:29:28.722895: I tensorflow/core/platform/cpu_feature_guard.cc:182] This TensorFlow binary is optimized to use available CPU instructions in performance-critical operations.\n",
      "To enable the following instructions: AVX2 AVX512F AVX512_VNNI FMA, in other operations, rebuild TensorFlow with the appropriate compiler flags.\n"
     ]
    }
   ],
   "source": [
    "from tensorflow.keras.models import Sequential\n",
    "from tensorflow.keras.layers import Embedding, LSTM, Dense\n",
    "from tensorflow.keras.preprocessing.text import Tokenizer\n",
    "from tensorflow.keras.preprocessing.sequence import pad_sequences\n"
   ]
  },
  {
   "cell_type": "code",
   "execution_count": 65,
   "id": "ccdc2839",
   "metadata": {},
   "outputs": [
    {
     "data": {
      "text/plain": [
       "103851"
      ]
     },
     "execution_count": 65,
     "metadata": {},
     "output_type": "execute_result"
    }
   ],
   "source": [
    "tokenizer = Tokenizer()\n",
    "tokenizer.fit_on_texts(x_train)\n",
    "vocab_size = len(tokenizer.word_index)+1\n",
    "vocab_size"
   ]
  },
  {
   "cell_type": "code",
   "execution_count": 69,
   "id": "2de910a8",
   "metadata": {},
   "outputs": [
    {
     "data": {
      "image/png": "[encoded data removed]",
      "text/plain": [
       "<Figure size 640x480 with 1 Axes>"
      ]
     },
     "metadata": {},
     "output_type": "display_data"
    }
   ],
   "source": [
    "import matplotlib.pyplot as plt\n",
    "\n",
    "sequence_lengths = [len(seq.split()) for seq in train6[\"text\"]]\n",
    "plt.hist(sequence_lengths, bins=50)\n",
    "plt.title('Distribution of Sequence Lengths')\n",
    "plt.xlabel('Sequence Length')\n",
    "plt.ylabel('Frequency')\n",
    "plt.show()"
   ]
  },
  {
   "cell_type": "markdown",
   "id": "0a99fd82",
   "metadata": {},
   "source": [
    "### As from above figure, the maxlen for each sequence is somewhere around 50."
   ]
  },
  {
   "cell_type": "code",
   "execution_count": 70,
   "id": "41076db0",
   "metadata": {},
   "outputs": [],
   "source": [
    "X_train = pad_sequences(tokenizer.texts_to_sequences(train6[\"text\"]), maxlen=50)\n",
    "X_test = pad_sequences(tokenizer.texts_to_sequences(test5[\"text\"]), maxlen=50)"
   ]
  },
  {
   "cell_type": "code",
   "execution_count": 81,
   "id": "64f21eb9",
   "metadata": {},
   "outputs": [],
   "source": [
    "from keras.utils import to_categorical\n",
    "\n",
    "#prepare genre mapping\n",
    "unique_genres = train[\"Genre\"].unique()\n",
    "genre_mapping = {genre: idx for idx, genre in enumerate(unique_genres)}\n",
    "\n",
    "\n",
    "y_train_numerical = train[\"Genre\"].map(genre_mapping)\n",
    "y_train_onehot = to_categorical(y_train_numerical, num_classes=num_classes)"
   ]
  },
  {
   "cell_type": "code",
   "execution_count": 83,
   "id": "1590a17f",
   "metadata": {},
   "outputs": [
    {
     "ename": "ValueError",
     "evalue": "invalid literal for int() with base 10: ' thriller '",
     "output_type": "error",
     "traceback": [
      "\u001b[0;31m---------------------------------------------------------------------------\u001b[0m",
      "\u001b[0;31mValueError\u001b[0m                                Traceback (most recent call last)",
      "Cell \u001b[0;32mIn[83], line 1\u001b[0m\n\u001b[0;32m----> 1\u001b[0m y_test_onehot \u001b[38;5;241m=\u001b[39m \u001b[43mto_categorical\u001b[49m\u001b[43m(\u001b[49m\u001b[43my_true\u001b[49m\u001b[43m,\u001b[49m\u001b[43m \u001b[49m\u001b[43mnum_classes\u001b[49m\u001b[38;5;241;43m=\u001b[39;49m\u001b[43mnum_classes\u001b[49m\u001b[43m)\u001b[49m\n",
      "File \u001b[0;32m~/anaconda3/lib/python3.10/site-packages/keras/src/utils/np_utils.py:62\u001b[0m, in \u001b[0;36mto_categorical\u001b[0;34m(y, num_classes, dtype)\u001b[0m\n\u001b[1;32m     23\u001b[0m \u001b[38;5;129m@keras_export\u001b[39m(\u001b[38;5;124m\"\u001b[39m\u001b[38;5;124mkeras.utils.to_categorical\u001b[39m\u001b[38;5;124m\"\u001b[39m)\n\u001b[1;32m     24\u001b[0m \u001b[38;5;28;01mdef\u001b[39;00m \u001b[38;5;21mto_categorical\u001b[39m(y, num_classes\u001b[38;5;241m=\u001b[39m\u001b[38;5;28;01mNone\u001b[39;00m, dtype\u001b[38;5;241m=\u001b[39m\u001b[38;5;124m\"\u001b[39m\u001b[38;5;124mfloat32\u001b[39m\u001b[38;5;124m\"\u001b[39m):\n\u001b[1;32m     25\u001b[0m     \u001b[38;5;124;03m\"\"\"Converts a class vector (integers) to binary class matrix.\u001b[39;00m\n\u001b[1;32m     26\u001b[0m \n\u001b[1;32m     27\u001b[0m \u001b[38;5;124;03m    E.g. for use with `categorical_crossentropy`.\u001b[39;00m\n\u001b[0;32m   (...)\u001b[0m\n\u001b[1;32m     60\u001b[0m \u001b[38;5;124;03m    [0. 0. 0. 0.]\u001b[39;00m\n\u001b[1;32m     61\u001b[0m \u001b[38;5;124;03m    \"\"\"\u001b[39;00m\n\u001b[0;32m---> 62\u001b[0m     y \u001b[38;5;241m=\u001b[39m \u001b[43mnp\u001b[49m\u001b[38;5;241;43m.\u001b[39;49m\u001b[43marray\u001b[49m\u001b[43m(\u001b[49m\u001b[43my\u001b[49m\u001b[43m,\u001b[49m\u001b[43m \u001b[49m\u001b[43mdtype\u001b[49m\u001b[38;5;241;43m=\u001b[39;49m\u001b[38;5;124;43m\"\u001b[39;49m\u001b[38;5;124;43mint\u001b[39;49m\u001b[38;5;124;43m\"\u001b[39;49m\u001b[43m)\u001b[49m\n\u001b[1;32m     63\u001b[0m     input_shape \u001b[38;5;241m=\u001b[39m y\u001b[38;5;241m.\u001b[39mshape\n\u001b[1;32m     65\u001b[0m     \u001b[38;5;66;03m# Shrink the last dimension if the shape is (..., 1).\u001b[39;00m\n",
      "File \u001b[0;32m~/anaconda3/lib/python3.10/site-packages/pandas/core/series.py:893\u001b[0m, in \u001b[0;36mSeries.__array__\u001b[0;34m(self, dtype)\u001b[0m\n\u001b[1;32m    846\u001b[0m \u001b[38;5;28;01mdef\u001b[39;00m \u001b[38;5;21m__array__\u001b[39m(\u001b[38;5;28mself\u001b[39m, dtype: npt\u001b[38;5;241m.\u001b[39mDTypeLike \u001b[38;5;241m|\u001b[39m \u001b[38;5;28;01mNone\u001b[39;00m \u001b[38;5;241m=\u001b[39m \u001b[38;5;28;01mNone\u001b[39;00m) \u001b[38;5;241m-\u001b[39m\u001b[38;5;241m>\u001b[39m np\u001b[38;5;241m.\u001b[39mndarray:\n\u001b[1;32m    847\u001b[0m     \u001b[38;5;124;03m\"\"\"\u001b[39;00m\n\u001b[1;32m    848\u001b[0m \u001b[38;5;124;03m    Return the values as a NumPy array.\u001b[39;00m\n\u001b[1;32m    849\u001b[0m \n\u001b[0;32m   (...)\u001b[0m\n\u001b[1;32m    891\u001b[0m \u001b[38;5;124;03m          dtype='datetime64[ns]')\u001b[39;00m\n\u001b[1;32m    892\u001b[0m \u001b[38;5;124;03m    \"\"\"\u001b[39;00m\n\u001b[0;32m--> 893\u001b[0m     \u001b[38;5;28;01mreturn\u001b[39;00m \u001b[43mnp\u001b[49m\u001b[38;5;241;43m.\u001b[39;49m\u001b[43masarray\u001b[49m\u001b[43m(\u001b[49m\u001b[38;5;28;43mself\u001b[39;49m\u001b[38;5;241;43m.\u001b[39;49m\u001b[43m_values\u001b[49m\u001b[43m,\u001b[49m\u001b[43m \u001b[49m\u001b[43mdtype\u001b[49m\u001b[43m)\u001b[49m\n",
      "\u001b[0;31mValueError\u001b[0m: invalid literal for int() with base 10: ' thriller '"
     ]
    }
   ],
   "source": [
    "y_test_onehot = to_categorical(y_true, num_classes=num_classes)"
   ]
  },
  {
   "cell_type": "code",
   "execution_count": 78,
   "id": "ad87cf49",
   "metadata": {},
   "outputs": [],
   "source": [
    "model = Sequential()\n",
    "model.add(Embedding(input_dim=vocab_size, output_dim=50, input_length=50))\n",
    "model.add(LSTM(100))\n",
    "model.add(Dense(units=num_classes, activation='softmax'))\n"
   ]
  },
  {
   "cell_type": "code",
   "execution_count": 79,
   "id": "1cc14ede",
   "metadata": {},
   "outputs": [],
   "source": [
    "model.compile(loss=\"categorical_crossentropy\", optimizer = \"adam\", metrics=\"accuracy\")"
   ]
  },
  {
   "cell_type": "code",
   "execution_count": 82,
   "id": "6e54b4af",
   "metadata": {},
   "outputs": [
    {
     "name": "stdout",
     "output_type": "stream",
     "text": [
      "Epoch 1/10\n",
      "868/868 [==============================] - 82s 92ms/step - loss: 2.1292 - accuracy: 0.3817 - val_loss: 1.9040 - val_accuracy: 0.4511\n",
      "Epoch 2/10\n",
      "868/868 [==============================] - 78s 90ms/step - loss: 1.6583 - accuracy: 0.5188 - val_loss: 1.6569 - val_accuracy: 0.5161\n",
      "Epoch 3/10\n",
      "868/868 [==============================] - 74s 85ms/step - loss: 1.2333 - accuracy: 0.6431 - val_loss: 1.6674 - val_accuracy: 0.5274\n",
      "Epoch 4/10\n",
      "868/868 [==============================] - 74s 86ms/step - loss: 0.8767 - accuracy: 0.7514 - val_loss: 1.8500 - val_accuracy: 0.5220\n",
      "Epoch 5/10\n",
      "868/868 [==============================] - 75s 86ms/step - loss: 0.6063 - accuracy: 0.8270 - val_loss: 2.0391 - val_accuracy: 0.5072\n",
      "Epoch 6/10\n",
      "868/868 [==============================] - 77s 89ms/step - loss: 0.3968 - accuracy: 0.8882 - val_loss: 2.3071 - val_accuracy: 0.4868\n",
      "Epoch 7/10\n",
      "868/868 [==============================] - 99s 114ms/step - loss: 0.2490 - accuracy: 0.9321 - val_loss: 2.6734 - val_accuracy: 0.4765\n",
      "Epoch 8/10\n",
      "868/868 [==============================] - 75s 86ms/step - loss: 0.1563 - accuracy: 0.9585 - val_loss: 2.9154 - val_accuracy: 0.4701\n",
      "Epoch 9/10\n",
      "868/868 [==============================] - 78s 90ms/step - loss: 0.1007 - accuracy: 0.9745 - val_loss: 3.2705 - val_accuracy: 0.4533\n",
      "Epoch 10/10\n",
      "868/868 [==============================] - 80s 92ms/step - loss: 0.0652 - accuracy: 0.9832 - val_loss: 3.7187 - val_accuracy: 0.4591\n"
     ]
    },
    {
     "data": {
      "text/plain": [
       "<keras.src.callbacks.History at 0x7f93773e5f30>"
      ]
     },
     "execution_count": 82,
     "metadata": {},
     "output_type": "execute_result"
    }
   ],
   "source": [
    "model.fit(X_train, y_train_onehot,  epochs=10, batch_size=50, validation_split=0.2)"
   ]
  },
  {
   "cell_type": "code",
   "execution_count": 85,
   "id": "0defaeb4",
   "metadata": {},
   "outputs": [
    {
     "name": "stdout",
     "output_type": "stream",
     "text": [
      "1694/1694 [==============================] - 15s 9ms/step\n"
     ]
    }
   ],
   "source": [
    "prediction_LSTM = model.predict(X_test)"
   ]
  },
  {
   "cell_type": "code",
   "execution_count": 86,
   "id": "cedb35fe",
   "metadata": {},
   "outputs": [
    {
     "data": {
      "text/plain": [
       "array([[5.64564943e-01, 1.03385677e-03, 7.12551980e-07, ...,\n",
       "        1.04475486e-08, 1.23737621e-07, 6.44086171e-08],\n",
       "       [9.99989569e-01, 2.14038693e-07, 3.12945059e-10, ...,\n",
       "        5.17439691e-09, 2.17796753e-07, 1.67724681e-06],\n",
       "       [2.71932058e-05, 8.56946869e-08, 1.18946586e-09, ...,\n",
       "        1.44480214e-08, 3.00304741e-08, 3.55112295e-09],\n",
       "       ...,\n",
       "       [9.99462247e-01, 4.08652141e-07, 1.77709658e-09, ...,\n",
       "        5.39930852e-07, 8.81304550e-06, 1.97817849e-06],\n",
       "       [9.99962270e-01, 1.72853033e-05, 3.50355691e-08, ...,\n",
       "        1.88072420e-08, 2.55880565e-07, 1.62670938e-06],\n",
       "       [3.14013392e-04, 2.22457075e-07, 1.18457494e-10, ...,\n",
       "        3.33468826e-08, 3.26033067e-08, 1.98956187e-07]], dtype=float32)"
      ]
     },
     "execution_count": 86,
     "metadata": {},
     "output_type": "execute_result"
    }
   ],
   "source": [
    "prediction_LSTM"
   ]
  },
  {
   "cell_type": "code",
   "execution_count": 94,
   "id": "6c2c3a44",
   "metadata": {},
   "outputs": [],
   "source": [
    "import numpy as np\n",
    "from sklearn.preprocessing import LabelEncoder\n"
   ]
  },
  {
   "cell_type": "code",
   "execution_count": 95,
   "id": "be678956",
   "metadata": {},
   "outputs": [],
   "source": [
    "label_encoder = LabelEncoder()\n",
    "y_true_numerical = label_encoder.fit_transform(y_true)"
   ]
  },
  {
   "cell_type": "code",
   "execution_count": 97,
   "id": "378b9a4f",
   "metadata": {},
   "outputs": [
    {
     "name": "stderr",
     "output_type": "stream",
     "text": [
      "/Users/sudhinkarki/anaconda3/lib/python3.10/site-packages/sklearn/preprocessing/_encoders.py:828: FutureWarning: `sparse` was renamed to `sparse_output` in version 1.2 and will be removed in 1.4. `sparse_output` is ignored unless you leave `sparse` to its default value.\n",
      "  warnings.warn(\n"
     ]
    }
   ],
   "source": [
    "from sklearn.preprocessing import OneHotEncoder\n",
    "\n",
    "onehot_encoder = OneHotEncoder(sparse=False)\n",
    "y_true_onehot = onehot_encoder.fit_transform(y_true_numerical.reshape(-1, 1))\n"
   ]
  },
  {
   "cell_type": "code",
   "execution_count": 98,
   "id": "6281eafa",
   "metadata": {},
   "outputs": [],
   "source": [
    "predicted_labels = np.argmax(prediction_LSTM, axis=1)\n"
   ]
  },
  {
   "cell_type": "code",
   "execution_count": 99,
   "id": "513f17f9",
   "metadata": {
    "scrolled": false
   },
   "outputs": [
    {
     "name": "stdout",
     "output_type": "stream",
     "text": [
      "LSTM Model Accuracy: 0.018653136531365314\n"
     ]
    }
   ],
   "source": [
    "accuracy = accuracy_score(y_true_numerical, predicted_labels)\n",
    "print(\"LSTM Model Accuracy:\", accuracy)"
   ]
  },
  {
   "cell_type": "code",
   "execution_count": null,
   "id": "cf997901",
   "metadata": {},
   "outputs": [],
   "source": []
  }
 ],
 "metadata": {
  "kernelspec": {
   "display_name": "Python 3 (ipykernel)",
   "language": "python",
   "name": "python3"
  },
  "language_info": {
   "codemirror_mode": {
    "name": "ipython",
    "version": 3
   },
   "file_extension": ".py",
   "mimetype": "text/x-python",
   "name": "python",
   "nbconvert_exporter": "python",
   "pygments_lexer": "ipython3",
   "version": "3.10.9"
  }
 },
 "nbformat": 4,
 "nbformat_minor": 5
}
